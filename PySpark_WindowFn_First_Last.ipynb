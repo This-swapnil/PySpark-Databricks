{
 "cells": [
  {
   "cell_type": "code",
   "execution_count": 1,
   "metadata": {},
   "outputs": [
    {
     "name": "stderr",
     "output_type": "stream",
     "text": [
      "Setting default log level to \"WARN\".\n",
      "To adjust logging level use sc.setLogLevel(newLevel). For SparkR, use setLogLevel(newLevel).\n",
      "24/02/27 12:48:55 WARN NativeCodeLoader: Unable to load native-hadoop library for your platform... using builtin-java classes where applicable\n",
      "24/02/27 12:48:56 WARN Utils: Service 'SparkUI' could not bind on port 4040. Attempting port 4041.\n"
     ]
    },
    {
     "name": "stderr",
     "output_type": "stream",
     "text": [
      "24/02/27 12:49:07 WARN GarbageCollectionMetrics: To enable non-built-in garbage collector(s) List(G1 Concurrent GC), users should configure it(them) to spark.eventLog.gcMetrics.youngGenerationGarbageCollectors or spark.eventLog.gcMetrics.oldGenerationGarbageCollectors\n"
     ]
    }
   ],
   "source": [
    "from pyspark.sql import SparkSession\n",
    "\n",
    "spark = SparkSession.builder.appName(\"Window_fun_First_Last\").getOrCreate()"
   ]
  },
  {
   "cell_type": "code",
   "execution_count": 2,
   "metadata": {},
   "outputs": [],
   "source": [
    "from pyspark.sql.functions import *"
   ]
  },
  {
   "cell_type": "code",
   "execution_count": 8,
   "metadata": {},
   "outputs": [
    {
     "name": "stdout",
     "output_type": "stream",
     "text": [
      "+-----------+----------------+------+\n",
      "|customer_id|transaction_date|amount|\n",
      "+-----------+----------------+------+\n",
      "|         C1|      2023-06-01| 100.0|\n",
      "|         C1|      2023-06-02| 150.0|\n",
      "|         C1|      2023-06-03| 200.0|\n",
      "|         C2|      2023-06-02|  50.0|\n",
      "|         C2|      2023-06-03|  75.0|\n",
      "|         C2|      2023-06-04| 100.0|\n",
      "+-----------+----------------+------+\n",
      "\n"
     ]
    }
   ],
   "source": [
    "# create sample dataframe\n",
    "data = [\n",
    "    (\"C1\", \"2023-06-01\", 100.0),\n",
    "    (\"C1\", \"2023-06-02\", 150.0),\n",
    "    (\"C1\", \"2023-06-03\", 200.0),\n",
    "    (\"C2\", \"2023-06-02\", 50.0),\n",
    "    (\"C2\", \"2023-06-03\", 75.0),\n",
    "    (\"C2\", \"2023-06-04\", 100.0),\n",
    "]\n",
    "\n",
    "df = spark.createDataFrame(data, schema=[\"customer_id\", \"transaction_date\", \"amount\"])\n",
    "\n",
    "# convert the transaction_date column to date type\n",
    "df = df.withColumn(\"transaction_date\", to_date(\"transaction_date\"))\n",
    "\n",
    "df.show()"
   ]
  },
  {
   "cell_type": "markdown",
   "metadata": {},
   "source": [
    "##### Window Functions"
   ]
  },
  {
   "cell_type": "code",
   "execution_count": 9,
   "metadata": {},
   "outputs": [],
   "source": [
    "from pyspark.sql.window import Window"
   ]
  },
  {
   "cell_type": "code",
   "execution_count": 10,
   "metadata": {},
   "outputs": [],
   "source": [
    "windowSpec = Window.partitionBy(\"customer_id\")"
   ]
  },
  {
   "cell_type": "code",
   "execution_count": 11,
   "metadata": {},
   "outputs": [
    {
     "name": "stdout",
     "output_type": "stream",
     "text": [
      "+-----------+----------------+------+----------------------+---------------------+\n",
      "|customer_id|transaction_date|amount|first_transaction_date|last_transaction_date|\n",
      "+-----------+----------------+------+----------------------+---------------------+\n",
      "|         C1|      2023-06-01| 100.0|            2023-06-01|           2023-06-03|\n",
      "|         C1|      2023-06-02| 150.0|            2023-06-01|           2023-06-03|\n",
      "|         C1|      2023-06-03| 200.0|            2023-06-01|           2023-06-03|\n",
      "|         C2|      2023-06-02|  50.0|            2023-06-02|           2023-06-04|\n",
      "|         C2|      2023-06-03|  75.0|            2023-06-02|           2023-06-04|\n",
      "|         C2|      2023-06-04| 100.0|            2023-06-02|           2023-06-04|\n",
      "+-----------+----------------+------+----------------------+---------------------+\n",
      "\n"
     ]
    }
   ],
   "source": [
    "result_df = df.withColumn(\n",
    "    \"first_transaction_date\", first(\"transaction_date\").over(window=windowSpec)\n",
    ").withColumn(\"last_transaction_date\", last(\"transaction_date\").over(window=windowSpec))\n",
    "\n",
    "result_df.show()"
   ]
  },
  {
   "cell_type": "markdown",
   "metadata": {},
   "source": [
    "Find First and Last Transaction date for each customer"
   ]
  },
  {
   "cell_type": "code",
   "execution_count": 12,
   "metadata": {},
   "outputs": [
    {
     "name": "stdout",
     "output_type": "stream",
     "text": [
      "+-----------+----------------------+---------------------+\n",
      "|customer_id|first_transaction_date|last_transaction_date|\n",
      "+-----------+----------------------+---------------------+\n",
      "|         C1|            2023-06-01|           2023-06-03|\n",
      "|         C2|            2023-06-02|           2023-06-04|\n",
      "+-----------+----------------------+---------------------+\n",
      "\n"
     ]
    }
   ],
   "source": [
    "result_df = (\n",
    "    df.withColumn(\n",
    "        \"first_transaction_date\", first(\"transaction_date\").over(window=windowSpec)\n",
    "    )\n",
    "    .withColumn(\n",
    "        \"last_transaction_date\", last(\"transaction_date\").over(window=windowSpec)\n",
    "    )\n",
    "    .drop(\"transaction_date\", \"amount\")\n",
    "    .distinct()\n",
    ")\n",
    "\n",
    "result_df.show()"
   ]
  },
  {
   "cell_type": "markdown",
   "metadata": {},
   "source": [
    "How to Perform same transformation using Spark SQl\n",
    "\n",
    "- Convert dataframe to View"
   ]
  },
  {
   "cell_type": "code",
   "execution_count": 13,
   "metadata": {},
   "outputs": [],
   "source": [
    "df.createOrReplaceTempView(\"transaction\")"
   ]
  },
  {
   "cell_type": "code",
   "execution_count": 15,
   "metadata": {},
   "outputs": [
    {
     "name": "stdout",
     "output_type": "stream",
     "text": [
      "+-----------+----------------------+---------------------+\n",
      "|customer_id|first_transaction_date|last_transaction_date|\n",
      "+-----------+----------------------+---------------------+\n",
      "|         C1|            2023-06-01|           2023-06-03|\n",
      "|         C2|            2023-06-02|           2023-06-04|\n",
      "+-----------+----------------------+---------------------+\n",
      "\n"
     ]
    }
   ],
   "source": [
    "# SQl window function\n",
    "\n",
    "spark.sql(\n",
    "    \"\"\"SELECT DISTINCT customer_id,\n",
    "    FIRST(transaction_date) OVER (PARTITION BY customer_id) AS first_transaction_date,\n",
    "    LAST(transaction_date) OVER (PARTITION BY customer_id) AS last_transaction_date\n",
    "FROM transaction\n",
    "ORDER BY customer_id\"\"\"\n",
    ").show()"
   ]
  },
  {
   "cell_type": "code",
   "execution_count": null,
   "metadata": {},
   "outputs": [],
   "source": []
  }
 ],
 "metadata": {
  "kernelspec": {
   "display_name": "spark",
   "language": "python",
   "name": "python3"
  },
  "language_info": {
   "codemirror_mode": {
    "name": "ipython",
    "version": 3
   },
   "file_extension": ".py",
   "mimetype": "text/x-python",
   "name": "python",
   "nbconvert_exporter": "python",
   "pygments_lexer": "ipython3",
   "version": "3.12.1"
  }
 },
 "nbformat": 4,
 "nbformat_minor": 2
}
