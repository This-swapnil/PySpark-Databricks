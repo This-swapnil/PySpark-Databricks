{
 "cells": [
  {
   "cell_type": "code",
   "execution_count": 2,
   "metadata": {},
   "outputs": [
    {
     "name": "stderr",
     "output_type": "stream",
     "text": [
      "Setting default log level to \"WARN\".\n",
      "To adjust logging level use sc.setLogLevel(newLevel). For SparkR, use setLogLevel(newLevel).\n",
      "24/02/15 13:09:28 WARN NativeCodeLoader: Unable to load native-hadoop library for your platform... using builtin-java classes where applicable\n"
     ]
    },
    {
     "name": "stderr",
     "output_type": "stream",
     "text": [
      "24/02/15 13:09:43 WARN GarbageCollectionMetrics: To enable non-built-in garbage collector(s) List(G1 Concurrent GC), users should configure it(them) to spark.eventLog.gcMetrics.youngGenerationGarbageCollectors or spark.eventLog.gcMetrics.oldGenerationGarbageCollectors\n"
     ]
    }
   ],
   "source": [
    "from pyspark.sql import SparkSession\n",
    "\n",
    "spark = SparkSession.builder.appName(\"Null_Count\").getOrCreate()"
   ]
  },
  {
   "cell_type": "markdown",
   "metadata": {},
   "source": [
    "- Creating sample dataframe with null values"
   ]
  },
  {
   "cell_type": "code",
   "execution_count": 3,
   "metadata": {},
   "outputs": [
    {
     "name": "stderr",
     "output_type": "stream",
     "text": [
      "                                                                                \r"
     ]
    },
    {
     "name": "stdout",
     "output_type": "stream",
     "text": [
      "+-------+-----------+----+------+----------+\n",
      "|   Name|    Subject|Mark|Status|Attendance|\n",
      "+-------+-----------+----+------+----------+\n",
      "|Michael|    Science|  80|     P|        90|\n",
      "|  Nancy|Mathematics|  90|     P|      NULL|\n",
      "|  David|    English|  20|     F|        80|\n",
      "|   John|    Science|NULL|     F|      NULL|\n",
      "| Martin|Mathematics|NULL|  NULL|        90|\n",
      "|   NULL|       NULL|NULL|  NULL|      NULL|\n",
      "+-------+-----------+----+------+----------+\n",
      "\n"
     ]
    }
   ],
   "source": [
    "data_student = [\n",
    "    (\"Michael\", \"Science\", 80, \"P\", 90),\n",
    "    (\"Nancy\", \"Mathematics\", 90, \"P\", None),\n",
    "    (\"David\", \"English\", 20, \"F\", 80),\n",
    "    (\"John\", \"Science\", None, \"F\", None),\n",
    "    (\"Martin\", \"Mathematics\", None, None, 90),\n",
    "    (None, None, None, None, None),\n",
    "]\n",
    "\n",
    "schema = [\"Name\", \"Subject\", \"Mark\", \"Status\", \"Attendance\"]\n",
    "df = spark.createDataFrame(data=data_student, schema=schema)\n",
    "df.show()"
   ]
  },
  {
   "cell_type": "markdown",
   "metadata": {},
   "source": [
    "- Find null occurences of Each Column in Dataframe"
   ]
  },
  {
   "cell_type": "code",
   "execution_count": 4,
   "metadata": {},
   "outputs": [],
   "source": [
    "from pyspark.sql.functions import col, count, when"
   ]
  },
  {
   "cell_type": "code",
   "execution_count": 7,
   "metadata": {},
   "outputs": [
    {
     "name": "stdout",
     "output_type": "stream",
     "text": [
      "+----+-------+----+------+----------+\n",
      "|Name|Subject|Mark|Status|Attendance|\n",
      "+----+-------+----+------+----------+\n",
      "|   1|      1|   3|     2|         3|\n",
      "+----+-------+----+------+----------+\n",
      "\n"
     ]
    }
   ],
   "source": [
    "result = df.select([count(when(col(c).isNull(), c)).alias(c) for c in df.columns])\n",
    "result.show()"
   ]
  },
  {
   "cell_type": "code",
   "execution_count": null,
   "metadata": {},
   "outputs": [],
   "source": []
  }
 ],
 "metadata": {
  "kernelspec": {
   "display_name": "spark",
   "language": "python",
   "name": "python3"
  },
  "language_info": {
   "codemirror_mode": {
    "name": "ipython",
    "version": 3
   },
   "file_extension": ".py",
   "mimetype": "text/x-python",
   "name": "python",
   "nbconvert_exporter": "python",
   "pygments_lexer": "ipython3",
   "version": "3.10.13"
  }
 },
 "nbformat": 4,
 "nbformat_minor": 2
}
