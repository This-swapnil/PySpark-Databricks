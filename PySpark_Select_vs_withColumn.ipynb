{
 "cells": [
  {
   "cell_type": "code",
   "execution_count": 1,
   "metadata": {},
   "outputs": [
    {
     "name": "stderr",
     "output_type": "stream",
     "text": [
      "Setting default log level to \"WARN\".\n",
      "To adjust logging level use sc.setLogLevel(newLevel). For SparkR, use setLogLevel(newLevel).\n",
      "24/02/26 12:49:09 WARN NativeCodeLoader: Unable to load native-hadoop library for your platform... using builtin-java classes where applicable\n"
     ]
    }
   ],
   "source": [
    "from pyspark.sql import SparkSession\n",
    "\n",
    "spark = SparkSession.builder.appName(\"select_vs_withColumn\").getOrCreate()"
   ]
  },
  {
   "cell_type": "markdown",
   "metadata": {},
   "source": [
    "- sample dataframe"
   ]
  },
  {
   "cell_type": "code",
   "execution_count": 3,
   "metadata": {},
   "outputs": [
    {
     "name": "stderr",
     "output_type": "stream",
     "text": [
      "                                                                                \r"
     ]
    },
    {
     "name": "stdout",
     "output_type": "stream",
     "text": [
      "+---+---------+--------+------+\n",
      "|id |FirstName|LastName|Salary|\n",
      "+---+---------+--------+------+\n",
      "|111|Stephen  |King    |2000  |\n",
      "|222|Philipp  |Larkin  |8000  |\n",
      "|333|John     |Smith   |6000  |\n",
      "+---+---------+--------+------+\n",
      "\n"
     ]
    }
   ],
   "source": [
    "employee_data = [\n",
    "    (111, \"Stephen\", \"King\", 2000),\n",
    "    (222, \"Philipp\", \"Larkin\", 8000),\n",
    "    (333, \"John\", \"Smith\", 6000),\n",
    "]\n",
    "\n",
    "employee_schema = [\"id\", \"FirstName\", \"LastName\", \"Salary\"]\n",
    "\n",
    "df = spark.createDataFrame(data=employee_data, schema=employee_schema)\n",
    "df.show(truncate=False)"
   ]
  },
  {
   "cell_type": "markdown",
   "metadata": {},
   "source": [
    "- Add new column with multiple withColumn"
   ]
  },
  {
   "cell_type": "code",
   "execution_count": 4,
   "metadata": {},
   "outputs": [],
   "source": [
    "from pyspark.sql.functions import col, concat, lit, current_timestamp"
   ]
  },
  {
   "cell_type": "code",
   "execution_count": 5,
   "metadata": {},
   "outputs": [
    {
     "name": "stdout",
     "output_type": "stream",
     "text": [
      "+---+---------+--------+------+--------------+------------+-----------+-------------------------+\n",
      "|id |FirstName|LastName|Salary|Name          |BonusPercent|TotalSalary|DateCreated              |\n",
      "+---+---------+--------+------+--------------+------------+-----------+-------------------------+\n",
      "|111|Stephen  |King    |2000  |Stephen King  |10          |20000      |2024-02-26 12:57:15.43089|\n",
      "|222|Philipp  |Larkin  |8000  |Philipp Larkin|10          |80000      |2024-02-26 12:57:15.43089|\n",
      "|333|John     |Smith   |6000  |John Smith    |10          |60000      |2024-02-26 12:57:15.43089|\n",
      "+---+---------+--------+------+--------------+------------+-----------+-------------------------+\n",
      "\n"
     ]
    }
   ],
   "source": [
    "dfWithColumn = (\n",
    "    df.withColumn(\"Name\", concat(col(\"FirstName\"), lit(\" \"), col(\"LastName\")))\n",
    "    .withColumn(\"BonusPercent\", lit(10))\n",
    "    .withColumn(\"TotalSalary\", col(\"Salary\") * col(\"BonusPercent\"))\n",
    "    .withColumn(\"DateCreated\", current_timestamp())\n",
    ")\n",
    "\n",
    "dfWithColumn.show(truncate=False)"
   ]
  },
  {
   "cell_type": "markdown",
   "metadata": {},
   "source": [
    "- Add new columns with Multiple Dataframes"
   ]
  },
  {
   "cell_type": "code",
   "execution_count": 6,
   "metadata": {},
   "outputs": [
    {
     "name": "stdout",
     "output_type": "stream",
     "text": [
      "+---+---------+--------+------+--------------+------------+-----------+--------------------------+\n",
      "|id |FirstName|LastName|Salary|Name          |BonusPercent|TotalSalary|DateCreated               |\n",
      "+---+---------+--------+------+--------------+------------+-----------+--------------------------+\n",
      "|111|Stephen  |King    |2000  |Stephen King  |10          |20000      |2024-02-26 13:00:23.526588|\n",
      "|222|Philipp  |Larkin  |8000  |Philipp Larkin|10          |80000      |2024-02-26 13:00:23.526588|\n",
      "|333|John     |Smith   |6000  |John Smith    |10          |60000      |2024-02-26 13:00:23.526588|\n",
      "+---+---------+--------+------+--------------+------------+-----------+--------------------------+\n",
      "\n"
     ]
    }
   ],
   "source": [
    "dfWithCol = df.withColumn(\"Name\", concat(col(\"FirstName\"), lit(\" \"), col(\"LastName\")))\n",
    "dfWithCol = dfWithCol.withColumn(\"BonusPercent\", lit(10))\n",
    "dfWithCol = dfWithCol.withColumn(\"TotalSalary\", col(\"Salary\") * col(\"BonusPercent\"))\n",
    "dfWithCol = dfWithCol.withColumn(\"DateCreated\", current_timestamp())\n",
    "\n",
    "dfWithCol.show(truncate=False)"
   ]
  },
  {
   "cell_type": "markdown",
   "metadata": {},
   "source": [
    "#### Select vs withColumn"
   ]
  },
  {
   "cell_type": "code",
   "execution_count": 9,
   "metadata": {},
   "outputs": [
    {
     "name": "stdout",
     "output_type": "stream",
     "text": [
      "+---+---------+--------+------+--------------+------------+-----------+--------------------------+\n",
      "|id |FirstName|LastName|Salary|Name          |BonusPercent|TotalSalary|DateCreated               |\n",
      "+---+---------+--------+------+--------------+------------+-----------+--------------------------+\n",
      "|111|Stephen  |King    |2000  |Stephen King  |10          |20000      |2024-02-26 13:08:17.706758|\n",
      "|222|Philipp  |Larkin  |8000  |Philipp Larkin|10          |80000      |2024-02-26 13:08:17.706758|\n",
      "|333|John     |Smith   |6000  |John Smith    |10          |60000      |2024-02-26 13:08:17.706758|\n",
      "+---+---------+--------+------+--------------+------------+-----------+--------------------------+\n",
      "\n",
      "+---+---------+--------+------+--------------+------------+-----------+--------------------------+\n",
      "|id |FirstName|LastName|Salary|Name          |BonusPercent|TotalSalary|DateCreated               |\n",
      "+---+---------+--------+------+--------------+------------+-----------+--------------------------+\n",
      "|111|Stephen  |King    |2000  |Stephen King  |10          |20000      |2024-02-26 13:08:18.301412|\n",
      "|222|Philipp  |Larkin  |8000  |Philipp Larkin|10          |80000      |2024-02-26 13:08:18.301412|\n",
      "|333|John     |Smith   |6000  |John Smith    |10          |60000      |2024-02-26 13:08:18.301412|\n",
      "+---+---------+--------+------+--------------+------------+-----------+--------------------------+\n",
      "\n"
     ]
    }
   ],
   "source": [
    "dfSelect = df.select(\n",
    "    \"*\",\n",
    "    concat(col(\"FirstName\"), lit(\" \"), col(\"LastName\")).alias(\"Name\"),\n",
    "    lit(10).alias(\"BonusPercent\"),\n",
    "    (col(\"Salary\") * lit(10)).alias(\"TotalSalary\"),\n",
    "    current_timestamp().alias(\"DateCreated\"),\n",
    ")\n",
    "dfSelect.show(truncate=False)\n",
    "\n",
    "# select vs withColumn\n",
    "\n",
    "dfWithColumn = (\n",
    "    df.withColumn(\"Name\", concat(col(\"FirstName\"), lit(\" \"), col(\"LastName\")))\n",
    "    .withColumn(\"BonusPercent\", lit(10))\n",
    "    .withColumn(\"TotalSalary\", col(\"Salary\") * col(\"BonusPercent\"))\n",
    "    .withColumn(\"DateCreated\", current_timestamp())\n",
    ")\n",
    "\n",
    "dfWithColumn.show(truncate=False)"
   ]
  },
  {
   "cell_type": "markdown",
   "metadata": {},
   "source": [
    "<h5> Notes</h5></br>\n",
    "<h4> withColumn()</h4></br>\n",
    "- This method introduces a projection internally. Therefore, calling it multiple times, for instance, via loops in order to add multiple columns can generate big plans which can cause performance issues and even StackOverflowException. To avoid this, use select() with the multiple columns at once."
   ]
  },
  {
   "cell_type": "code",
   "execution_count": null,
   "metadata": {},
   "outputs": [],
   "source": []
  }
 ],
 "metadata": {
  "kernelspec": {
   "display_name": "spark",
   "language": "python",
   "name": "python3"
  },
  "language_info": {
   "codemirror_mode": {
    "name": "ipython",
    "version": 3
   },
   "file_extension": ".py",
   "mimetype": "text/x-python",
   "name": "python",
   "nbconvert_exporter": "python",
   "pygments_lexer": "ipython3",
   "version": "3.12.1"
  }
 },
 "nbformat": 4,
 "nbformat_minor": 2
}
