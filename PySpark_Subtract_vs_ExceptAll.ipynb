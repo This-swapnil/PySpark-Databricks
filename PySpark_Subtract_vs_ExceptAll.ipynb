{
 "cells": [
  {
   "cell_type": "code",
   "execution_count": 1,
   "metadata": {},
   "outputs": [
    {
     "name": "stderr",
     "output_type": "stream",
     "text": [
      "Setting default log level to \"WARN\".\n",
      "To adjust logging level use sc.setLogLevel(newLevel). For SparkR, use setLogLevel(newLevel).\n",
      "24/02/27 12:19:33 WARN NativeCodeLoader: Unable to load native-hadoop library for your platform... using builtin-java classes where applicable\n"
     ]
    },
    {
     "name": "stderr",
     "output_type": "stream",
     "text": [
      "24/02/27 12:19:46 WARN GarbageCollectionMetrics: To enable non-built-in garbage collector(s) List(G1 Concurrent GC), users should configure it(them) to spark.eventLog.gcMetrics.youngGenerationGarbageCollectors or spark.eventLog.gcMetrics.oldGenerationGarbageCollectors\n"
     ]
    }
   ],
   "source": [
    "from pyspark.sql import SparkSession\n",
    "\n",
    "spark = SparkSession.builder.appName(\"Subtract_vs_exceptAll\").getOrCreate()"
   ]
  },
  {
   "cell_type": "code",
   "execution_count": 2,
   "metadata": {},
   "outputs": [],
   "source": [
    "# create sample dataframe\n",
    "# sample sales data\n",
    "data1 = [\n",
    "    (\"Product A\", 100),\n",
    "    (\"Product B\", 50),\n",
    "    (\"Product C\", 200),\n",
    "    (\"Product C\", 200),\n",
    "    (\"Product D\", 150),\n",
    "]\n",
    "\n",
    "data2 = [\n",
    "    (\"Product A\", 100),\n",
    "    (\"Product B\", 30),\n",
    "    (\"Product C\", 200),\n",
    "    (\"Product E\", 80),\n",
    "]\n",
    "\n",
    "# create dataframe\n",
    "sourceDF = spark.createDataFrame(data=data1, schema=[\"Product\", \"Quantity\"])\n",
    "targetDF = spark.createDataFrame(data=data2, schema=[\"Product\", \"Quantity\"])"
   ]
  },
  {
   "cell_type": "code",
   "execution_count": 3,
   "metadata": {},
   "outputs": [
    {
     "name": "stderr",
     "output_type": "stream",
     "text": [
      "                                                                                \r"
     ]
    },
    {
     "name": "stdout",
     "output_type": "stream",
     "text": [
      "+---------+--------+\n",
      "|  Product|Quantity|\n",
      "+---------+--------+\n",
      "|Product A|     100|\n",
      "|Product B|      50|\n",
      "|Product C|     200|\n",
      "|Product C|     200|\n",
      "|Product D|     150|\n",
      "+---------+--------+\n",
      "\n"
     ]
    }
   ],
   "source": [
    "sourceDF.show()"
   ]
  },
  {
   "cell_type": "code",
   "execution_count": 5,
   "metadata": {},
   "outputs": [
    {
     "name": "stdout",
     "output_type": "stream",
     "text": [
      "+---------+--------+\n",
      "|  Product|Quantity|\n",
      "+---------+--------+\n",
      "|Product A|     100|\n",
      "|Product B|      30|\n",
      "|Product C|     200|\n",
      "|Product E|      80|\n",
      "+---------+--------+\n",
      "\n"
     ]
    }
   ],
   "source": [
    "targetDF.show()"
   ]
  },
  {
   "cell_type": "markdown",
   "metadata": {},
   "source": [
    "#### Subtract - Not preserving Duplicates"
   ]
  },
  {
   "cell_type": "code",
   "execution_count": 6,
   "metadata": {},
   "outputs": [
    {
     "name": "stderr",
     "output_type": "stream",
     "text": [
      "                                                                                \r"
     ]
    },
    {
     "name": "stdout",
     "output_type": "stream",
     "text": [
      "+---------+--------+\n",
      "|  Product|Quantity|\n",
      "+---------+--------+\n",
      "|Product D|     150|\n",
      "|Product B|      50|\n",
      "+---------+--------+\n",
      "\n"
     ]
    }
   ],
   "source": [
    "resutlDf = sourceDF.subtract(targetDF)\n",
    "resutlDf.show()  # it gives the element present in sourceDf which are not present in targetDf"
   ]
  },
  {
   "cell_type": "markdown",
   "metadata": {},
   "source": [
    "#### exceptAll - Preserves Duplicates"
   ]
  },
  {
   "cell_type": "code",
   "execution_count": 7,
   "metadata": {},
   "outputs": [
    {
     "name": "stdout",
     "output_type": "stream",
     "text": [
      "+---------+--------+\n",
      "|  Product|Quantity|\n",
      "+---------+--------+\n",
      "|Product B|      50|\n",
      "|Product C|     200|\n",
      "|Product D|     150|\n",
      "+---------+--------+\n",
      "\n"
     ]
    }
   ],
   "source": [
    "resutlDf = sourceDF.exceptAll(targetDF)\n",
    "resutlDf.show()"
   ]
  },
  {
   "cell_type": "code",
   "execution_count": null,
   "metadata": {},
   "outputs": [],
   "source": []
  }
 ],
 "metadata": {
  "kernelspec": {
   "display_name": "spark",
   "language": "python",
   "name": "python3"
  },
  "language_info": {
   "codemirror_mode": {
    "name": "ipython",
    "version": 3
   },
   "file_extension": ".py",
   "mimetype": "text/x-python",
   "name": "python",
   "nbconvert_exporter": "python",
   "pygments_lexer": "ipython3",
   "version": "3.12.1"
  }
 },
 "nbformat": 4,
 "nbformat_minor": 2
}
