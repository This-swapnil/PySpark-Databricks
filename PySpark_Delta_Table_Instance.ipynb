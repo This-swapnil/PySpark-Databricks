{
 "cells": [
  {
   "cell_type": "code",
   "execution_count": 1,
   "metadata": {},
   "outputs": [
    {
     "name": "stdout",
     "output_type": "stream",
     "text": [
      ":: loading settings :: url = jar:file:/home/nil/anaconda3/envs/spark/lib/python3.10/site-packages/pyspark/jars/ivy-2.5.1.jar!/org/apache/ivy/core/settings/ivysettings.xml\n"
     ]
    },
    {
     "name": "stderr",
     "output_type": "stream",
     "text": [
      "Ivy Default Cache set to: /home/nil/.ivy2/cache\n",
      "The jars for the packages stored in: /home/nil/.ivy2/jars\n",
      "io.delta#delta-spark_2.12 added as a dependency\n",
      ":: resolving dependencies :: org.apache.spark#spark-submit-parent-e014a90c-fa6b-4312-af38-332e901ed429;1.0\n",
      "\tconfs: [default]\n",
      "\tfound io.delta#delta-spark_2.12;3.1.0 in central\n",
      "\tfound io.delta#delta-storage;3.1.0 in central\n",
      "\tfound org.antlr#antlr4-runtime;4.9.3 in central\n",
      ":: resolution report :: resolve 249ms :: artifacts dl 13ms\n",
      "\t:: modules in use:\n",
      "\tio.delta#delta-spark_2.12;3.1.0 from central in [default]\n",
      "\tio.delta#delta-storage;3.1.0 from central in [default]\n",
      "\torg.antlr#antlr4-runtime;4.9.3 from central in [default]\n",
      "\t---------------------------------------------------------------------\n",
      "\t|                  |            modules            ||   artifacts   |\n",
      "\t|       conf       | number| search|dwnlded|evicted|| number|dwnlded|\n",
      "\t---------------------------------------------------------------------\n",
      "\t|      default     |   3   |   0   |   0   |   0   ||   3   |   0   |\n",
      "\t---------------------------------------------------------------------\n",
      ":: retrieving :: org.apache.spark#spark-submit-parent-e014a90c-fa6b-4312-af38-332e901ed429\n",
      "\tconfs: [default]\n",
      "\t0 artifacts copied, 3 already retrieved (0kB/6ms)\n",
      "24/02/16 15:12:14 WARN NativeCodeLoader: Unable to load native-hadoop library for your platform... using builtin-java classes where applicable\n",
      "Setting default log level to \"WARN\".\n",
      "To adjust logging level use sc.setLogLevel(newLevel). For SparkR, use setLogLevel(newLevel).\n",
      "24/02/16 15:12:15 WARN Utils: Service 'SparkUI' could not bind on port 4040. Attempting port 4041.\n",
      "24/02/16 15:12:15 WARN Utils: Service 'SparkUI' could not bind on port 4041. Attempting port 4042.\n"
     ]
    }
   ],
   "source": [
    "from pyspark.sql import SparkSession\n",
    "from delta import *\n",
    "\n",
    "builder = (\n",
    "    SparkSession.builder.appName(\"MyApp\")\n",
    "    .config(\"spark.sql.extensions\", \"io.delta.sql.DeltaSparkSessionExtension\")\n",
    "    .config(\n",
    "        \"spark.sql.catalog.spark_catalog\",\n",
    "        \"org.apache.spark.sql.delta.catalog.DeltaCatalog\",\n",
    "    )\n",
    ")\n",
    "spark = configure_spark_with_delta_pip(builder).getOrCreate()"
   ]
  },
  {
   "cell_type": "code",
   "execution_count": 7,
   "metadata": {},
   "outputs": [
    {
     "name": "stdout",
     "output_type": "stream",
     "text": [
      "+---------+---------+-----------+\n",
      "|namespace|tableName|isTemporary|\n",
      "+---------+---------+-----------+\n",
      "+---------+---------+-----------+\n",
      "\n"
     ]
    }
   ],
   "source": [
    "spark.sql(\"show tables\").show(truncate=False)"
   ]
  },
  {
   "cell_type": "code",
   "execution_count": 8,
   "metadata": {},
   "outputs": [
    {
     "name": "stderr",
     "output_type": "stream",
     "text": [
      "                                                                                \r"
     ]
    },
    {
     "data": {
      "text/plain": [
       "<delta.tables.DeltaTable at 0x7f3b9d2d7760>"
      ]
     },
     "execution_count": 8,
     "metadata": {},
     "output_type": "execute_result"
    }
   ],
   "source": [
    "DeltaTable.createIfNotExists(spark).tableName(\"employee_table\").addColumn(\n",
    "    \"emp_id\", \"INT\"\n",
    ").addColumn(\"emp_name\", \"STRING\").addColumn(\"gender\", \"STRING\").addColumn(\n",
    "    \"salary\", \"INT\"\n",
    ").addColumn(\n",
    "    \"Dept\", \"STRING\"\n",
    ").property(\n",
    "    \"description\", \"table created for demo purpose\"\n",
    ").location(\n",
    "    \"/mnt/sda3/iNeuron/Data Engineering/pySpark/Delta_Lake/delta_lake_02\"\n",
    ").execute()"
   ]
  },
  {
   "cell_type": "code",
   "execution_count": 10,
   "metadata": {},
   "outputs": [
    {
     "name": "stderr",
     "output_type": "stream",
     "text": [
      "                                                                                \r"
     ]
    },
    {
     "data": {
      "text/plain": [
       "DataFrame[]"
      ]
     },
     "execution_count": 10,
     "metadata": {},
     "output_type": "execute_result"
    }
   ],
   "source": [
    "spark.sql(\n",
    "    \"insert into employee_table values(100,'Stephen','M',2000,'IT'),(200,'Philipp','M',8000,'HR'),(300,'Laura','F',6000,'SALES')\"\n",
    ")"
   ]
  },
  {
   "cell_type": "code",
   "execution_count": 11,
   "metadata": {},
   "outputs": [
    {
     "name": "stdout",
     "output_type": "stream",
     "text": [
      "+------+--------+------+------+-----+\n",
      "|emp_id|emp_name|gender|salary|Dept |\n",
      "+------+--------+------+------+-----+\n",
      "|300   |Laura   |F     |6000  |SALES|\n",
      "|100   |Stephen |M     |2000  |IT   |\n",
      "|200   |Philipp |M     |8000  |HR   |\n",
      "+------+--------+------+------+-----+\n",
      "\n"
     ]
    }
   ],
   "source": [
    "spark.sql(\"SELECT * FROM employee_table\").show(truncate=False)"
   ]
  },
  {
   "cell_type": "markdown",
   "metadata": {},
   "source": [
    "### forPath"
   ]
  },
  {
   "cell_type": "code",
   "execution_count": 12,
   "metadata": {},
   "outputs": [],
   "source": [
    "deltaInstance1 = DeltaTable.forPath(\n",
    "    sparkSession=spark, path=\"./Delta_Lake/delta_lake_02\"\n",
    ")"
   ]
  },
  {
   "cell_type": "code",
   "execution_count": 13,
   "metadata": {},
   "outputs": [
    {
     "name": "stdout",
     "output_type": "stream",
     "text": [
      "+------+--------+------+------+-----+\n",
      "|emp_id|emp_name|gender|salary|Dept |\n",
      "+------+--------+------+------+-----+\n",
      "|300   |Laura   |F     |6000  |SALES|\n",
      "|100   |Stephen |M     |2000  |IT   |\n",
      "|200   |Philipp |M     |8000  |HR   |\n",
      "+------+--------+------+------+-----+\n",
      "\n"
     ]
    }
   ],
   "source": [
    "deltaInstance1.toDF().show(truncate=False)"
   ]
  },
  {
   "cell_type": "code",
   "execution_count": 14,
   "metadata": {},
   "outputs": [
    {
     "data": {
      "text/plain": [
       "pyspark.sql.dataframe.DataFrame"
      ]
     },
     "execution_count": 14,
     "metadata": {},
     "output_type": "execute_result"
    }
   ],
   "source": [
    "type(deltaInstance1.toDF())"
   ]
  },
  {
   "cell_type": "markdown",
   "metadata": {},
   "source": [
    "#### DML Operation"
   ]
  },
  {
   "cell_type": "markdown",
   "metadata": {},
   "source": [
    "- delete operation"
   ]
  },
  {
   "cell_type": "code",
   "execution_count": 15,
   "metadata": {},
   "outputs": [
    {
     "name": "stderr",
     "output_type": "stream",
     "text": [
      "                                                                                \r"
     ]
    },
    {
     "data": {
      "text/plain": [
       "DataFrame[num_affected_rows: bigint]"
      ]
     },
     "execution_count": 15,
     "metadata": {},
     "output_type": "execute_result"
    }
   ],
   "source": [
    "# 1st way\n",
    "spark.sql(\"delete from employee_table where emp_id=100\")"
   ]
  },
  {
   "cell_type": "code",
   "execution_count": 16,
   "metadata": {},
   "outputs": [
    {
     "name": "stdout",
     "output_type": "stream",
     "text": [
      "+------+--------+------+------+-----+\n",
      "|emp_id|emp_name|gender|salary| Dept|\n",
      "+------+--------+------+------+-----+\n",
      "|   300|   Laura|     F|  6000|SALES|\n",
      "|   200| Philipp|     M|  8000|   HR|\n",
      "+------+--------+------+------+-----+\n",
      "\n"
     ]
    }
   ],
   "source": [
    "spark.sql(\"select * from employee_table\").show()"
   ]
  },
  {
   "cell_type": "code",
   "execution_count": 17,
   "metadata": {},
   "outputs": [
    {
     "name": "stderr",
     "output_type": "stream",
     "text": [
      "                                                                                \r"
     ]
    }
   ],
   "source": [
    "# 2nd way (using instance)\n",
    "deltaInstance1.delete(\"emp_id=200\")"
   ]
  },
  {
   "cell_type": "code",
   "execution_count": 18,
   "metadata": {},
   "outputs": [
    {
     "name": "stdout",
     "output_type": "stream",
     "text": [
      "+------+--------+------+------+-----+\n",
      "|emp_id|emp_name|gender|salary|Dept |\n",
      "+------+--------+------+------+-----+\n",
      "|300   |Laura   |F     |6000  |SALES|\n",
      "+------+--------+------+------+-----+\n",
      "\n"
     ]
    }
   ],
   "source": [
    "deltaInstance1.toDF().show(truncate=False)"
   ]
  },
  {
   "cell_type": "markdown",
   "metadata": {},
   "source": [
    "### forName"
   ]
  },
  {
   "cell_type": "code",
   "execution_count": 19,
   "metadata": {},
   "outputs": [],
   "source": [
    "deltaInstance2 = DeltaTable.forName(\n",
    "    sparkSession=spark, tableOrViewName=\"employee_table\"\n",
    ")"
   ]
  },
  {
   "cell_type": "code",
   "execution_count": 20,
   "metadata": {},
   "outputs": [
    {
     "name": "stdout",
     "output_type": "stream",
     "text": [
      "+------+--------+------+------+-----+\n",
      "|emp_id|emp_name|gender|salary| Dept|\n",
      "+------+--------+------+------+-----+\n",
      "|   300|   Laura|     F|  6000|SALES|\n",
      "+------+--------+------+------+-----+\n",
      "\n"
     ]
    }
   ],
   "source": [
    "deltaInstance2.toDF().show()"
   ]
  },
  {
   "cell_type": "code",
   "execution_count": 22,
   "metadata": {},
   "outputs": [
    {
     "name": "stdout",
     "output_type": "stream",
     "text": [
      "+-------+-----------------------+------+--------+------------+----------------------------------------------------------------------------------------------------------------------------+----+--------+---------+-----------+--------------+-------------+---------------------------------------------------------------------------------------------------------------------------------------------------------------------------------------------------------------------------------------------------------------------------------------------------------------------------+------------+-----------------------------------+\n",
      "|version|timestamp              |userId|userName|operation   |operationParameters                                                                                                         |job |notebook|clusterId|readVersion|isolationLevel|isBlindAppend|operationMetrics                                                                                                                                                                                                                                                                                                           |userMetadata|engineInfo                         |\n",
      "+-------+-----------------------+------+--------+------------+----------------------------------------------------------------------------------------------------------------------------+----+--------+---------+-----------+--------------+-------------+---------------------------------------------------------------------------------------------------------------------------------------------------------------------------------------------------------------------------------------------------------------------------------------------------------------------------+------------+-----------------------------------+\n",
      "|3      |2024-02-16 15:21:43.835|NULL  |NULL    |DELETE      |{predicate -> [\"(emp_id#3066 = 200)\"]}                                                                                      |NULL|NULL    |NULL     |2          |Serializable  |false        |{numRemovedFiles -> 1, numRemovedBytes -> 1399, numCopiedRows -> 0, numDeletionVectorsAdded -> 0, numDeletionVectorsRemoved -> 0, numAddedChangeFiles -> 0, executionTimeMs -> 1008, numDeletionVectorsUpdated -> 0, numDeletedRows -> 1, scanTimeMs -> 723, numAddedFiles -> 0, numAddedBytes -> 0, rewriteTimeMs -> 284} |NULL        |Apache-Spark/3.5.0 Delta-Lake/3.1.0|\n",
      "|2      |2024-02-16 15:20:30.648|NULL  |NULL    |DELETE      |{predicate -> [\"(emp_id#3166 = 100)\"]}                                                                                      |NULL|NULL    |NULL     |1          |Serializable  |false        |{numRemovedFiles -> 1, numRemovedBytes -> 1399, numCopiedRows -> 0, numDeletionVectorsAdded -> 0, numDeletionVectorsRemoved -> 0, numAddedChangeFiles -> 0, executionTimeMs -> 1847, numDeletionVectorsUpdated -> 0, numDeletedRows -> 1, scanTimeMs -> 1502, numAddedFiles -> 0, numAddedBytes -> 0, rewriteTimeMs -> 344}|NULL        |Apache-Spark/3.5.0 Delta-Lake/3.1.0|\n",
      "|1      |2024-02-16 15:13:56.459|NULL  |NULL    |WRITE       |{mode -> Append, partitionBy -> []}                                                                                         |NULL|NULL    |NULL     |0          |Serializable  |true         |{numFiles -> 3, numOutputRows -> 3, numOutputBytes -> 4204}                                                                                                                                                                                                                                                                |NULL        |Apache-Spark/3.5.0 Delta-Lake/3.1.0|\n",
      "|0      |2024-02-16 15:13:39.987|NULL  |NULL    |CREATE TABLE|{isManaged -> false, description -> NULL, partitionBy -> [], properties -> {\"description\":\"table created for demo purpose\"}}|NULL|NULL    |NULL     |NULL       |Serializable  |true         |{}                                                                                                                                                                                                                                                                                                                         |NULL        |Apache-Spark/3.5.0 Delta-Lake/3.1.0|\n",
      "+-------+-----------------------+------+--------+------------+----------------------------------------------------------------------------------------------------------------------------+----+--------+---------+-----------+--------------+-------------+---------------------------------------------------------------------------------------------------------------------------------------------------------------------------------------------------------------------------------------------------------------------------------------------------------------------------+------------+-----------------------------------+\n",
      "\n"
     ]
    }
   ],
   "source": [
    "spark.sql(\"DESCRIBE HISTORY employee_table\").show(truncate=False)"
   ]
  },
  {
   "cell_type": "code",
   "execution_count": 23,
   "metadata": {},
   "outputs": [
    {
     "name": "stdout",
     "output_type": "stream",
     "text": [
      "+-------+-----------------------+------+--------+------------+----------------------------------------------------------------------------------------------------------------------------+----+--------+---------+-----------+--------------+-------------+---------------------------------------------------------------------------------------------------------------------------------------------------------------------------------------------------------------------------------------------------------------------------------------------------------------------------+------------+-----------------------------------+\n",
      "|version|timestamp              |userId|userName|operation   |operationParameters                                                                                                         |job |notebook|clusterId|readVersion|isolationLevel|isBlindAppend|operationMetrics                                                                                                                                                                                                                                                                                                           |userMetadata|engineInfo                         |\n",
      "+-------+-----------------------+------+--------+------------+----------------------------------------------------------------------------------------------------------------------------+----+--------+---------+-----------+--------------+-------------+---------------------------------------------------------------------------------------------------------------------------------------------------------------------------------------------------------------------------------------------------------------------------------------------------------------------------+------------+-----------------------------------+\n",
      "|3      |2024-02-16 15:21:43.835|NULL  |NULL    |DELETE      |{predicate -> [\"(emp_id#3066 = 200)\"]}                                                                                      |NULL|NULL    |NULL     |2          |Serializable  |false        |{numRemovedFiles -> 1, numRemovedBytes -> 1399, numCopiedRows -> 0, numDeletionVectorsAdded -> 0, numDeletionVectorsRemoved -> 0, numAddedChangeFiles -> 0, executionTimeMs -> 1008, numDeletionVectorsUpdated -> 0, numDeletedRows -> 1, scanTimeMs -> 723, numAddedFiles -> 0, numAddedBytes -> 0, rewriteTimeMs -> 284} |NULL        |Apache-Spark/3.5.0 Delta-Lake/3.1.0|\n",
      "|2      |2024-02-16 15:20:30.648|NULL  |NULL    |DELETE      |{predicate -> [\"(emp_id#3166 = 100)\"]}                                                                                      |NULL|NULL    |NULL     |1          |Serializable  |false        |{numRemovedFiles -> 1, numRemovedBytes -> 1399, numCopiedRows -> 0, numDeletionVectorsAdded -> 0, numDeletionVectorsRemoved -> 0, numAddedChangeFiles -> 0, executionTimeMs -> 1847, numDeletionVectorsUpdated -> 0, numDeletedRows -> 1, scanTimeMs -> 1502, numAddedFiles -> 0, numAddedBytes -> 0, rewriteTimeMs -> 344}|NULL        |Apache-Spark/3.5.0 Delta-Lake/3.1.0|\n",
      "|1      |2024-02-16 15:13:56.459|NULL  |NULL    |WRITE       |{mode -> Append, partitionBy -> []}                                                                                         |NULL|NULL    |NULL     |0          |Serializable  |true         |{numFiles -> 3, numOutputRows -> 3, numOutputBytes -> 4204}                                                                                                                                                                                                                                                                |NULL        |Apache-Spark/3.5.0 Delta-Lake/3.1.0|\n",
      "|0      |2024-02-16 15:13:39.987|NULL  |NULL    |CREATE TABLE|{isManaged -> false, description -> NULL, partitionBy -> [], properties -> {\"description\":\"table created for demo purpose\"}}|NULL|NULL    |NULL     |NULL       |Serializable  |true         |{}                                                                                                                                                                                                                                                                                                                         |NULL        |Apache-Spark/3.5.0 Delta-Lake/3.1.0|\n",
      "+-------+-----------------------+------+--------+------------+----------------------------------------------------------------------------------------------------------------------------+----+--------+---------+-----------+--------------+-------------+---------------------------------------------------------------------------------------------------------------------------------------------------------------------------------------------------------------------------------------------------------------------------------------------------------------------------+------------+-----------------------------------+\n",
      "\n"
     ]
    }
   ],
   "source": [
    "deltaInstance2.history().show(truncate=False)"
   ]
  },
  {
   "cell_type": "code",
   "execution_count": null,
   "metadata": {},
   "outputs": [],
   "source": []
  }
 ],
 "metadata": {
  "kernelspec": {
   "display_name": "spark",
   "language": "python",
   "name": "python3"
  },
  "language_info": {
   "codemirror_mode": {
    "name": "ipython",
    "version": 3
   },
   "file_extension": ".py",
   "mimetype": "text/x-python",
   "name": "python",
   "nbconvert_exporter": "python",
   "pygments_lexer": "ipython3",
   "version": "3.10.13"
  }
 },
 "nbformat": 4,
 "nbformat_minor": 2
}
