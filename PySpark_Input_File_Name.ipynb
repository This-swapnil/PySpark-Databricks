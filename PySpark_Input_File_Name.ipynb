{
 "cells": [
  {
   "cell_type": "markdown",
   "metadata": {},
   "source": [
    "#### For troubleshooting and Debugging\n",
    "- To find which file contain NA/None/Null values"
   ]
  },
  {
   "cell_type": "code",
   "execution_count": 10,
   "metadata": {},
   "outputs": [
    {
     "name": "stderr",
     "output_type": "stream",
     "text": [
      "Setting default log level to \"WARN\".\n",
      "To adjust logging level use sc.setLogLevel(newLevel). For SparkR, use setLogLevel(newLevel).\n",
      "24/02/22 20:47:51 WARN NativeCodeLoader: Unable to load native-hadoop library for your platform... using builtin-java classes where applicable\n"
     ]
    }
   ],
   "source": [
    "from pyspark.sql import SparkSession\n",
    "\n",
    "spark = SparkSession.builder.appName(\"Input_File_Name\").getOrCreate()"
   ]
  },
  {
   "cell_type": "code",
   "execution_count": 23,
   "metadata": {},
   "outputs": [
    {
     "name": "stdout",
     "output_type": "stream",
     "text": [
      "+----+----------+-----------+---+-----+\n",
      "|Year|First Name|County     |Sex|Count|\n",
      "+----+----------+-----------+---+-----+\n",
      "|2007|ZOEY      |KINGS      |F  |11   |\n",
      "|2007|ZOEY      |SUFFOLK    |F  |6    |\n",
      "|2007|ZOEY      |MONROE     |F  |6    |\n",
      "|2007|ZOEY      |ERIE       |F  |9    |\n",
      "|2007|ZOE       |ULSTER     |F  |5    |\n",
      "|2007|ZOE       |WESTCHESTER|F  |24   |\n",
      "|2007|ZOE       |BRONX      |F  |13   |\n",
      "|2007|ZOE       |NEW YORK   |F  |55   |\n",
      "|2007|ZOE       |NASSAU     |F  |15   |\n",
      "|2007|ZOE       |ERIE       |F  |6    |\n",
      "|2007|ZOE       |SUFFOLK    |F  |14   |\n",
      "|2007|ZOE       |KINGS      |F  |34   |\n",
      "|2007|ZOE       |MONROE     |F  |9    |\n",
      "|2007|ZOE       |QUEENS     |F  |26   |\n",
      "|2007|ZOE       |ALBANY     |F  |5    |\n",
      "|2007|ZISSY     |ROCKLAND   |F  |5    |\n",
      "|2007|ZISSY     |KINGS      |F  |27   |\n",
      "|2007|ZION      |KINGS      |M  |15   |\n",
      "|2007|ZION      |BRONX      |M  |14   |\n",
      "|2007|ZEV       |ROCKLAND   |M  |6    |\n",
      "+----+----------+-----------+---+-----+\n",
      "only showing top 20 rows\n",
      "\n"
     ]
    }
   ],
   "source": [
    "df = spark.read.csv(\"Baby_Names.csv\", inferSchema=True, header=True)\n",
    "df.show(truncate=False)"
   ]
  },
  {
   "cell_type": "code",
   "execution_count": 24,
   "metadata": {},
   "outputs": [
    {
     "data": {
      "text/plain": [
       "[Row(Year=2014, First Name='MATIAS', County='Westchester', Sex='M', Count=5),\n",
       " Row(Year=2014, First Name='JOAQUIN', County='Westchester', Sex='M', Count=5),\n",
       " Row(Year=2014, First Name='NEYMAR', County='Westchester', Sex='M', Count=5),\n",
       " Row(Year=2014, First Name='PEDRO', County='Westchester', Sex='M', Count=5),\n",
       " Row(Year=2014, First Name='DILAN', County='Westchester', Sex='M', Count=5),\n",
       " Row(Year=2014, First Name='EMILIANO', County='Westchester', Sex='M', Count=5),\n",
       " Row(Year=2014, First Name='RAUL', County='Westchester', Sex='M', Count=5),\n",
       " Row(Year=2014, First Name='OLIVIA', County='Wyoming', Sex='F', Count=5),\n",
       " Row(Year=2014, First Name='LUCAS', County='Wyoming', Sex='M', Count=5),\n",
       " Row(Year=2014, First Name='JACKSON', County='Wyoming', Sex='M', Count=None)]"
      ]
     },
     "execution_count": 24,
     "metadata": {},
     "output_type": "execute_result"
    }
   ],
   "source": [
    "df.tail(10)"
   ]
  },
  {
   "cell_type": "code",
   "execution_count": 25,
   "metadata": {},
   "outputs": [
    {
     "name": "stdout",
     "output_type": "stream",
     "text": [
      "+----+----------+-------+---+-----+\n",
      "|Year|First Name| County|Sex|Count|\n",
      "+----+----------+-------+---+-----+\n",
      "|2014|   JACKSON|Wyoming|  M| NULL|\n",
      "+----+----------+-------+---+-----+\n",
      "\n"
     ]
    }
   ],
   "source": [
    "dfNull = df.filter(condition=\"Count is null\")\n",
    "dfNull.show()"
   ]
  },
  {
   "cell_type": "code",
   "execution_count": 26,
   "metadata": {},
   "outputs": [],
   "source": [
    "import pyspark.sql.functions as F"
   ]
  },
  {
   "cell_type": "code",
   "execution_count": 28,
   "metadata": {},
   "outputs": [
    {
     "name": "stdout",
     "output_type": "stream",
     "text": [
      "+----+----------+-----------+---+-----+----------------------------------------------------------------+\n",
      "|Year|First Name|County     |Sex|Count|input_file_name                                                 |\n",
      "+----+----------+-----------+---+-----+----------------------------------------------------------------+\n",
      "|2007|ZOEY      |KINGS      |F  |11   |file:///mnt/sda3/iNeuron/Data_Engineering/pySpark/Baby_Names.csv|\n",
      "|2007|ZOEY      |SUFFOLK    |F  |6    |file:///mnt/sda3/iNeuron/Data_Engineering/pySpark/Baby_Names.csv|\n",
      "|2007|ZOEY      |MONROE     |F  |6    |file:///mnt/sda3/iNeuron/Data_Engineering/pySpark/Baby_Names.csv|\n",
      "|2007|ZOEY      |ERIE       |F  |9    |file:///mnt/sda3/iNeuron/Data_Engineering/pySpark/Baby_Names.csv|\n",
      "|2007|ZOE       |ULSTER     |F  |5    |file:///mnt/sda3/iNeuron/Data_Engineering/pySpark/Baby_Names.csv|\n",
      "|2007|ZOE       |WESTCHESTER|F  |24   |file:///mnt/sda3/iNeuron/Data_Engineering/pySpark/Baby_Names.csv|\n",
      "|2007|ZOE       |BRONX      |F  |13   |file:///mnt/sda3/iNeuron/Data_Engineering/pySpark/Baby_Names.csv|\n",
      "|2007|ZOE       |NEW YORK   |F  |55   |file:///mnt/sda3/iNeuron/Data_Engineering/pySpark/Baby_Names.csv|\n",
      "|2007|ZOE       |NASSAU     |F  |15   |file:///mnt/sda3/iNeuron/Data_Engineering/pySpark/Baby_Names.csv|\n",
      "|2007|ZOE       |ERIE       |F  |6    |file:///mnt/sda3/iNeuron/Data_Engineering/pySpark/Baby_Names.csv|\n",
      "|2007|ZOE       |SUFFOLK    |F  |14   |file:///mnt/sda3/iNeuron/Data_Engineering/pySpark/Baby_Names.csv|\n",
      "|2007|ZOE       |KINGS      |F  |34   |file:///mnt/sda3/iNeuron/Data_Engineering/pySpark/Baby_Names.csv|\n",
      "|2007|ZOE       |MONROE     |F  |9    |file:///mnt/sda3/iNeuron/Data_Engineering/pySpark/Baby_Names.csv|\n",
      "|2007|ZOE       |QUEENS     |F  |26   |file:///mnt/sda3/iNeuron/Data_Engineering/pySpark/Baby_Names.csv|\n",
      "|2007|ZOE       |ALBANY     |F  |5    |file:///mnt/sda3/iNeuron/Data_Engineering/pySpark/Baby_Names.csv|\n",
      "|2007|ZISSY     |ROCKLAND   |F  |5    |file:///mnt/sda3/iNeuron/Data_Engineering/pySpark/Baby_Names.csv|\n",
      "|2007|ZISSY     |KINGS      |F  |27   |file:///mnt/sda3/iNeuron/Data_Engineering/pySpark/Baby_Names.csv|\n",
      "|2007|ZION      |KINGS      |M  |15   |file:///mnt/sda3/iNeuron/Data_Engineering/pySpark/Baby_Names.csv|\n",
      "|2007|ZION      |BRONX      |M  |14   |file:///mnt/sda3/iNeuron/Data_Engineering/pySpark/Baby_Names.csv|\n",
      "|2007|ZEV       |ROCKLAND   |M  |6    |file:///mnt/sda3/iNeuron/Data_Engineering/pySpark/Baby_Names.csv|\n",
      "+----+----------+-----------+---+-----+----------------------------------------------------------------+\n",
      "only showing top 20 rows\n",
      "\n"
     ]
    }
   ],
   "source": [
    "dfInputFileName = df.withColumn(\"input_file_name\", F.input_file_name())\n",
    "dfInputFileName.show(truncate=False)"
   ]
  },
  {
   "cell_type": "markdown",
   "metadata": {},
   "source": [
    "#### Gives the file where null/None/NA values are present in file"
   ]
  },
  {
   "cell_type": "code",
   "execution_count": 30,
   "metadata": {},
   "outputs": [
    {
     "name": "stdout",
     "output_type": "stream",
     "text": [
      "+----+----------+-------+---+-----+----------------------------------------------------------------+\n",
      "|Year|First Name|County |Sex|Count|input_file_name                                                 |\n",
      "+----+----------+-------+---+-----+----------------------------------------------------------------+\n",
      "|2014|JACKSON   |Wyoming|M  |NULL |file:///mnt/sda3/iNeuron/Data_Engineering/pySpark/Baby_Names.csv|\n",
      "+----+----------+-------+---+-----+----------------------------------------------------------------+\n",
      "\n"
     ]
    }
   ],
   "source": [
    "dfInputFileName = df.withColumn(\"input_file_name\", F.input_file_name()).filter(\n",
    "    condition=\"Count is null\"\n",
    ")\n",
    "dfInputFileName.show(truncate=False)"
   ]
  },
  {
   "cell_type": "markdown",
   "metadata": {},
   "source": [
    "##### Date and time ingested in dataframe"
   ]
  },
  {
   "cell_type": "code",
   "execution_count": 31,
   "metadata": {},
   "outputs": [
    {
     "name": "stdout",
     "output_type": "stream",
     "text": [
      "+----+----------+-------+---+-----+----------------------------------------------------------------+--------------------------+\n",
      "|Year|First Name|County |Sex|Count|input_file_name                                                 |date_ingested             |\n",
      "+----+----------+-------+---+-----+----------------------------------------------------------------+--------------------------+\n",
      "|2014|JACKSON   |Wyoming|M  |NULL |file:///mnt/sda3/iNeuron/Data_Engineering/pySpark/Baby_Names.csv|2024-02-22 21:00:44.026312|\n",
      "+----+----------+-------+---+-----+----------------------------------------------------------------+--------------------------+\n",
      "\n"
     ]
    }
   ],
   "source": [
    "df1 = dfInputFileName.withColumn(\"date_ingested\", F.current_timestamp())\n",
    "df1.show(truncate=False)"
   ]
  },
  {
   "cell_type": "code",
   "execution_count": null,
   "metadata": {},
   "outputs": [],
   "source": []
  }
 ],
 "metadata": {
  "kernelspec": {
   "display_name": "spark",
   "language": "python",
   "name": "python3"
  },
  "language_info": {
   "codemirror_mode": {
    "name": "ipython",
    "version": 3
   },
   "file_extension": ".py",
   "mimetype": "text/x-python",
   "name": "python",
   "nbconvert_exporter": "python",
   "pygments_lexer": "ipython3",
   "version": "3.12.1"
  }
 },
 "nbformat": 4,
 "nbformat_minor": 2
}
