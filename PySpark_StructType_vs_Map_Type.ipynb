{
 "cells": [
  {
   "cell_type": "code",
   "execution_count": 1,
   "metadata": {},
   "outputs": [
    {
     "name": "stderr",
     "output_type": "stream",
     "text": [
      "Setting default log level to \"WARN\".\n",
      "To adjust logging level use sc.setLogLevel(newLevel). For SparkR, use setLogLevel(newLevel).\n",
      "24/02/26 15:25:56 WARN NativeCodeLoader: Unable to load native-hadoop library for your platform... using builtin-java classes where applicable\n"
     ]
    },
    {
     "name": "stderr",
     "output_type": "stream",
     "text": [
      "24/02/26 15:26:11 WARN GarbageCollectionMetrics: To enable non-built-in garbage collector(s) List(G1 Concurrent GC), users should configure it(them) to spark.eventLog.gcMetrics.youngGenerationGarbageCollectors or spark.eventLog.gcMetrics.oldGenerationGarbageCollectors\n"
     ]
    }
   ],
   "source": [
    "from pyspark.sql import SparkSession\n",
    "\n",
    "spark = SparkSession.builder.appName(\"StructType vs MapType\").getOrCreate()"
   ]
  },
  {
   "cell_type": "code",
   "execution_count": 6,
   "metadata": {},
   "outputs": [],
   "source": [
    "from pyspark.sql.types import (\n",
    "    StringType,\n",
    "    StructType,\n",
    "    IntegerType,\n",
    "    StructField,\n",
    "    MapType,\n",
    "    ArrayType,\n",
    ")"
   ]
  },
  {
   "cell_type": "code",
   "execution_count": 3,
   "metadata": {},
   "outputs": [],
   "source": [
    "# sample data\n",
    "structureData = [\n",
    "    ((\"James\", \"Will\", \"Smith\"), 111, \"HR\"),\n",
    "    ((\"Michael\", \"Rose\", \"Dan\"), 222, \"SALES\"),\n",
    "    ((\"Robert\", \"Ray\", \"Williams\"), 333, \"IT\"),\n",
    "    ((\"Maria\", \"Anne\", \"Jones\"), 444, \"IT\"),\n",
    "    ((\"Jen\", \"Mary\", \"Brown\"), 555, \"HR\"),\n",
    "]"
   ]
  },
  {
   "cell_type": "code",
   "execution_count": 4,
   "metadata": {},
   "outputs": [],
   "source": [
    "# Define Nested Structure\n",
    "structureSchema = StructType(\n",
    "    [\n",
    "        StructField(\n",
    "            \"Name\",\n",
    "            StructType(\n",
    "                [\n",
    "                    StructField(\"FirstName\", StringType(), False),\n",
    "                    StructField(\"MiddleName\", StringType(), True),\n",
    "                    StructField(\"LastName\", StringType(), True),\n",
    "                ]\n",
    "            ),\n",
    "        ),\n",
    "        StructField(\"ID\", IntegerType(), True),\n",
    "        StructField(\"Department\", StringType(), True),\n",
    "    ]\n",
    ")"
   ]
  },
  {
   "cell_type": "code",
   "execution_count": 5,
   "metadata": {},
   "outputs": [
    {
     "name": "stderr",
     "output_type": "stream",
     "text": [
      "                                                                                \r"
     ]
    },
    {
     "name": "stdout",
     "output_type": "stream",
     "text": [
      "+-----------------------+---+----------+\n",
      "|Name                   |ID |Department|\n",
      "+-----------------------+---+----------+\n",
      "|{James, Will, Smith}   |111|HR        |\n",
      "|{Michael, Rose, Dan}   |222|SALES     |\n",
      "|{Robert, Ray, Williams}|333|IT        |\n",
      "|{Maria, Anne, Jones}   |444|IT        |\n",
      "|{Jen, Mary, Brown}     |555|HR        |\n",
      "+-----------------------+---+----------+\n",
      "\n",
      "root\n",
      " |-- Name: struct (nullable = true)\n",
      " |    |-- FirstName: string (nullable = false)\n",
      " |    |-- MiddleName: string (nullable = true)\n",
      " |    |-- LastName: string (nullable = true)\n",
      " |-- ID: integer (nullable = true)\n",
      " |-- Department: string (nullable = true)\n",
      "\n"
     ]
    }
   ],
   "source": [
    "# create dataframe using nested structure\n",
    "dfNested = spark.createDataFrame(data=structureData, schema=structureSchema)\n",
    "dfNested.show(truncate=False)\n",
    "dfNested.printSchema()"
   ]
  },
  {
   "cell_type": "markdown",
   "metadata": {},
   "source": [
    "##### MapType"
   ]
  },
  {
   "cell_type": "code",
   "execution_count": 7,
   "metadata": {},
   "outputs": [],
   "source": [
    "data = [\n",
    "    (\n",
    "        111,\n",
    "        \"Mike\",\n",
    "        {\"TV\": \"LG\", \"Refrigerator\": \"Samssung\", \"Oven\": \"Philips\", \"AC\": \"Voltas\"},\n",
    "    ),\n",
    "    (222, \"David\", {\"AC\": \"Samsung\", \"Washing machine\": \"LG\"}),\n",
    "    (333, \"Thomas\", {\"TV\": \"Croma\"}),\n",
    "    (444, \"Williams\", None),\n",
    "]\n",
    "\n",
    "schema = StructType(\n",
    "    [\n",
    "        StructField(\"ID\", IntegerType(), True),\n",
    "        StructField(\"Name\", StringType(), True),\n",
    "        StructField(\"Utilities\", MapType(StringType(), StringType()), True),\n",
    "    ]\n",
    ")"
   ]
  },
  {
   "cell_type": "code",
   "execution_count": 8,
   "metadata": {},
   "outputs": [
    {
     "name": "stdout",
     "output_type": "stream",
     "text": [
      "+---+--------+-------------------------------------------------------------------+\n",
      "|ID |Name    |Utilities                                                          |\n",
      "+---+--------+-------------------------------------------------------------------+\n",
      "|111|Mike    |{Refrigerator -> Samssung, AC -> Voltas, TV -> LG, Oven -> Philips}|\n",
      "|222|David   |{AC -> Samsung, Washing machine -> LG}                             |\n",
      "|333|Thomas  |{TV -> Croma}                                                      |\n",
      "|444|Williams|NULL                                                               |\n",
      "+---+--------+-------------------------------------------------------------------+\n",
      "\n",
      "root\n",
      " |-- ID: integer (nullable = true)\n",
      " |-- Name: string (nullable = true)\n",
      " |-- Utilities: map (nullable = true)\n",
      " |    |-- key: string\n",
      " |    |-- value: string (valueContainsNull = true)\n",
      "\n"
     ]
    }
   ],
   "source": [
    "# create dataframe using nested structure\n",
    "df = spark.createDataFrame(data=data, schema=schema)\n",
    "df.show(truncate=False)\n",
    "df.printSchema()"
   ]
  },
  {
   "cell_type": "code",
   "execution_count": null,
   "metadata": {},
   "outputs": [],
   "source": []
  }
 ],
 "metadata": {
  "kernelspec": {
   "display_name": "spark",
   "language": "python",
   "name": "python3"
  },
  "language_info": {
   "codemirror_mode": {
    "name": "ipython",
    "version": 3
   },
   "file_extension": ".py",
   "mimetype": "text/x-python",
   "name": "python",
   "nbconvert_exporter": "python",
   "pygments_lexer": "ipython3",
   "version": "3.12.1"
  }
 },
 "nbformat": 4,
 "nbformat_minor": 2
}
