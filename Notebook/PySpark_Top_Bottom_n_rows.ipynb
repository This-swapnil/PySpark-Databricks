{
 "cells": [
  {
   "cell_type": "code",
   "execution_count": 1,
   "metadata": {},
   "outputs": [
    {
     "name": "stderr",
     "output_type": "stream",
     "text": [
      "Setting default log level to \"WARN\".\n",
      "To adjust logging level use sc.setLogLevel(newLevel). For SparkR, use setLogLevel(newLevel).\n",
      "24/02/15 13:32:21 WARN NativeCodeLoader: Unable to load native-hadoop library for your platform... using builtin-java classes where applicable\n"
     ]
    },
    {
     "name": "stderr",
     "output_type": "stream",
     "text": [
      "24/02/15 13:32:34 WARN GarbageCollectionMetrics: To enable non-built-in garbage collector(s) List(G1 Concurrent GC), users should configure it(them) to spark.eventLog.gcMetrics.youngGenerationGarbageCollectors or spark.eventLog.gcMetrics.oldGenerationGarbageCollectors\n"
     ]
    }
   ],
   "source": [
    "from pyspark.sql import SparkSession\n",
    "\n",
    "spark = SparkSession.builder.appName(\"Top_Bottom_N_Rows\").getOrCreate()"
   ]
  },
  {
   "cell_type": "code",
   "execution_count": 2,
   "metadata": {},
   "outputs": [
    {
     "name": "stderr",
     "output_type": "stream",
     "text": [
      "                                                                                \r"
     ]
    },
    {
     "name": "stdout",
     "output_type": "stream",
     "text": [
      "+-------+-----------+----+------+----------+\n",
      "|   Name|    Subject|Mark|Status|Attendance|\n",
      "+-------+-----------+----+------+----------+\n",
      "|Michael|    Physics|  80|     P|        90|\n",
      "|Michael|  Chemistry|  67|     P|        90|\n",
      "|Michael|Mathematics|  78|     P|        90|\n",
      "|  Nancy|    Physics|  30|     F|        80|\n",
      "|  Nancy|  Chemistry|  59|     P|        80|\n",
      "|  Nancy|Mathematics|  75|     P|        80|\n",
      "|  David|    Physics|  90|     P|        70|\n",
      "|  David|  Chemistry|  87|     P|        70|\n",
      "|  David|Mathematics|  97|     P|        70|\n",
      "|   John|    Physics|  33|     F|        60|\n",
      "|   John|  Chemistry|  28|     F|        60|\n",
      "|   John|Mathematics|  52|     P|        60|\n",
      "| Blessy|    Physics|  89|     P|        75|\n",
      "| Blessy|  Chemistry|  76|     P|        75|\n",
      "| Blessy|Mathematics|  63|     P|        75|\n",
      "+-------+-----------+----+------+----------+\n",
      "\n"
     ]
    }
   ],
   "source": [
    "data_student = [\n",
    "    (\"Michael\", \"Physics\", 80, \"P\", 90),\n",
    "    (\"Michael\", \"Chemistry\", 67, \"P\", 90),\n",
    "    (\"Michael\", \"Mathematics\", 78, \"P\", 90),\n",
    "    (\"Nancy\", \"Physics\", 30, \"F\", 80),\n",
    "    (\"Nancy\", \"Chemistry\", 59, \"P\", 80),\n",
    "    (\"Nancy\", \"Mathematics\", 75, \"P\", 80),\n",
    "    (\"David\", \"Physics\", 90, \"P\", 70),\n",
    "    (\"David\", \"Chemistry\", 87, \"P\", 70),\n",
    "    (\"David\", \"Mathematics\", 97, \"P\", 70),\n",
    "    (\"John\", \"Physics\", 33, \"F\", 60),\n",
    "    (\"John\", \"Chemistry\", 28, \"F\", 60),\n",
    "    (\"John\", \"Mathematics\", 52, \"P\", 60),\n",
    "    (\"Blessy\", \"Physics\", 89, \"P\", 75),\n",
    "    (\"Blessy\", \"Chemistry\", 76, \"P\", 75),\n",
    "    (\"Blessy\", \"Mathematics\", 63, \"P\", 75),\n",
    "]\n",
    "\n",
    "schema = [\"Name\", \"Subject\", \"Mark\", \"Status\", \"Attendance\"]\n",
    "df = spark.createDataFrame(data=data_student, schema=schema)\n",
    "df.show()"
   ]
  },
  {
   "cell_type": "markdown",
   "metadata": {},
   "source": [
    "- Create Rank() with each group of Name"
   ]
  },
  {
   "cell_type": "code",
   "execution_count": 3,
   "metadata": {},
   "outputs": [],
   "source": [
    "from pyspark.sql.window import Window\n",
    "from pyspark.sql.functions import col, row_number"
   ]
  },
  {
   "cell_type": "code",
   "execution_count": 7,
   "metadata": {},
   "outputs": [],
   "source": [
    "windowDept = Window.partitionBy(\"Name\").orderBy(col(\"Mark\").desc())"
   ]
  },
  {
   "cell_type": "code",
   "execution_count": 8,
   "metadata": {},
   "outputs": [
    {
     "name": "stderr",
     "output_type": "stream",
     "text": [
      "[Stage 3:=============================>                             (4 + 4) / 8]\r"
     ]
    },
    {
     "name": "stdout",
     "output_type": "stream",
     "text": [
      "+-------+-----------+----+------+----------+---+\n",
      "|   Name|    Subject|Mark|Status|Attendance|row|\n",
      "+-------+-----------+----+------+----------+---+\n",
      "| Blessy|    Physics|  89|     P|        75|  1|\n",
      "| Blessy|  Chemistry|  76|     P|        75|  2|\n",
      "| Blessy|Mathematics|  63|     P|        75|  3|\n",
      "|  David|Mathematics|  97|     P|        70|  1|\n",
      "|  David|    Physics|  90|     P|        70|  2|\n",
      "|  David|  Chemistry|  87|     P|        70|  3|\n",
      "|   John|Mathematics|  52|     P|        60|  1|\n",
      "|   John|    Physics|  33|     F|        60|  2|\n",
      "|   John|  Chemistry|  28|     F|        60|  3|\n",
      "|Michael|    Physics|  80|     P|        90|  1|\n",
      "|Michael|Mathematics|  78|     P|        90|  2|\n",
      "|Michael|  Chemistry|  67|     P|        90|  3|\n",
      "|  Nancy|Mathematics|  75|     P|        80|  1|\n",
      "|  Nancy|  Chemistry|  59|     P|        80|  2|\n",
      "|  Nancy|    Physics|  30|     F|        80|  3|\n",
      "+-------+-----------+----+------+----------+---+\n",
      "\n"
     ]
    },
    {
     "name": "stderr",
     "output_type": "stream",
     "text": [
      "                                                                                \r"
     ]
    }
   ],
   "source": [
    "df2 = df.withColumn(\"row\", row_number().over(windowDept)).orderBy(\"Name\", \"row\")\n",
    "df2.show()"
   ]
  },
  {
   "cell_type": "markdown",
   "metadata": {},
   "source": [
    "- Get Top N rows per Group of Name"
   ]
  },
  {
   "cell_type": "code",
   "execution_count": 9,
   "metadata": {},
   "outputs": [
    {
     "name": "stdout",
     "output_type": "stream",
     "text": [
      "+-------+-----------+----+------+----------+---+\n",
      "|   Name|    Subject|Mark|Status|Attendance|row|\n",
      "+-------+-----------+----+------+----------+---+\n",
      "| Blessy|    Physics|  89|     P|        75|  1|\n",
      "|  David|Mathematics|  97|     P|        70|  1|\n",
      "|   John|Mathematics|  52|     P|        60|  1|\n",
      "|Michael|    Physics|  80|     P|        90|  1|\n",
      "|  Nancy|Mathematics|  75|     P|        80|  1|\n",
      "+-------+-----------+----+------+----------+---+\n",
      "\n"
     ]
    }
   ],
   "source": [
    "df3 = df2.filter(col(\"row\") <= 1)\n",
    "df3.show()"
   ]
  },
  {
   "cell_type": "markdown",
   "metadata": {},
   "source": [
    "- Create rank with each group of Subject"
   ]
  },
  {
   "cell_type": "code",
   "execution_count": 12,
   "metadata": {},
   "outputs": [],
   "source": [
    "windowDept = Window.partitionBy(\"Subject\").orderBy(col(\"Mark\").desc())"
   ]
  },
  {
   "cell_type": "code",
   "execution_count": 13,
   "metadata": {},
   "outputs": [
    {
     "name": "stdout",
     "output_type": "stream",
     "text": [
      "+-------+-----------+----+------+----------+---+\n",
      "|   Name|    Subject|Mark|Status|Attendance|row|\n",
      "+-------+-----------+----+------+----------+---+\n",
      "| Blessy|  Chemistry|  76|     P|        75|  2|\n",
      "| Blessy|    Physics|  89|     P|        75|  2|\n",
      "| Blessy|Mathematics|  63|     P|        75|  4|\n",
      "|  David|  Chemistry|  87|     P|        70|  1|\n",
      "|  David|Mathematics|  97|     P|        70|  1|\n",
      "|  David|    Physics|  90|     P|        70|  1|\n",
      "|   John|    Physics|  33|     F|        60|  4|\n",
      "|   John|  Chemistry|  28|     F|        60|  5|\n",
      "|   John|Mathematics|  52|     P|        60|  5|\n",
      "|Michael|Mathematics|  78|     P|        90|  2|\n",
      "|Michael|  Chemistry|  67|     P|        90|  3|\n",
      "|Michael|    Physics|  80|     P|        90|  3|\n",
      "|  Nancy|Mathematics|  75|     P|        80|  3|\n",
      "|  Nancy|  Chemistry|  59|     P|        80|  4|\n",
      "|  Nancy|    Physics|  30|     F|        80|  5|\n",
      "+-------+-----------+----+------+----------+---+\n",
      "\n"
     ]
    }
   ],
   "source": [
    "df4 = df.withColumn(\"row\", row_number().over(windowDept)).orderBy(\"Name\", \"row\")\n",
    "df4.show()"
   ]
  },
  {
   "cell_type": "markdown",
   "metadata": {},
   "source": [
    "- Get Top N rows per Group of SUbject"
   ]
  },
  {
   "cell_type": "code",
   "execution_count": 14,
   "metadata": {},
   "outputs": [
    {
     "name": "stdout",
     "output_type": "stream",
     "text": [
      "+-----+-----------+----+------+----------+---+\n",
      "| Name|    Subject|Mark|Status|Attendance|row|\n",
      "+-----+-----------+----+------+----------+---+\n",
      "|David|  Chemistry|  87|     P|        70|  1|\n",
      "|David|Mathematics|  97|     P|        70|  1|\n",
      "|David|    Physics|  90|     P|        70|  1|\n",
      "+-----+-----------+----+------+----------+---+\n",
      "\n"
     ]
    }
   ],
   "source": [
    "df5 = df4.filter(col(\"row\") <= 1)\n",
    "df5.show()"
   ]
  },
  {
   "cell_type": "markdown",
   "metadata": {},
   "source": [
    "- Reverse Rank() to get Bottom N Rows per Group"
   ]
  },
  {
   "cell_type": "code",
   "execution_count": 18,
   "metadata": {},
   "outputs": [],
   "source": [
    "windowDept = Window.partitionBy(\"Subject\").orderBy(col(\"Mark\"))"
   ]
  },
  {
   "cell_type": "code",
   "execution_count": 19,
   "metadata": {},
   "outputs": [
    {
     "name": "stdout",
     "output_type": "stream",
     "text": [
      "+-------+-----------+----+------+----------+---+\n",
      "|   Name|    Subject|Mark|Status|Attendance|row|\n",
      "+-------+-----------+----+------+----------+---+\n",
      "| Blessy|Mathematics|  63|     P|        75|  2|\n",
      "| Blessy|  Chemistry|  76|     P|        75|  4|\n",
      "| Blessy|    Physics|  89|     P|        75|  4|\n",
      "|  David|  Chemistry|  87|     P|        70|  5|\n",
      "|  David|Mathematics|  97|     P|        70|  5|\n",
      "|  David|    Physics|  90|     P|        70|  5|\n",
      "|   John|  Chemistry|  28|     F|        60|  1|\n",
      "|   John|Mathematics|  52|     P|        60|  1|\n",
      "|   John|    Physics|  33|     F|        60|  2|\n",
      "|Michael|  Chemistry|  67|     P|        90|  3|\n",
      "|Michael|    Physics|  80|     P|        90|  3|\n",
      "|Michael|Mathematics|  78|     P|        90|  4|\n",
      "|  Nancy|    Physics|  30|     F|        80|  1|\n",
      "|  Nancy|  Chemistry|  59|     P|        80|  2|\n",
      "|  Nancy|Mathematics|  75|     P|        80|  3|\n",
      "+-------+-----------+----+------+----------+---+\n",
      "\n"
     ]
    }
   ],
   "source": [
    "df6 = df.withColumn(\"row\", row_number().over(windowDept)).orderBy(\"Name\", \"row\")\n",
    "df6.show()"
   ]
  },
  {
   "cell_type": "markdown",
   "metadata": {},
   "source": [
    "- Get Bottom N Rows Per Group"
   ]
  },
  {
   "cell_type": "code",
   "execution_count": 20,
   "metadata": {},
   "outputs": [
    {
     "name": "stdout",
     "output_type": "stream",
     "text": [
      "+-----+-----------+----+------+----------+---+\n",
      "| Name|    Subject|Mark|Status|Attendance|row|\n",
      "+-----+-----------+----+------+----------+---+\n",
      "| John|  Chemistry|  28|     F|        60|  1|\n",
      "| John|Mathematics|  52|     P|        60|  1|\n",
      "|Nancy|    Physics|  30|     F|        80|  1|\n",
      "+-----+-----------+----+------+----------+---+\n",
      "\n"
     ]
    }
   ],
   "source": [
    "df7 = df6.filter(col(\"row\") <= 1)\n",
    "df7.show()"
   ]
  },
  {
   "cell_type": "code",
   "execution_count": null,
   "metadata": {},
   "outputs": [],
   "source": []
  }
 ],
 "metadata": {
  "kernelspec": {
   "display_name": "spark",
   "language": "python",
   "name": "python3"
  },
  "language_info": {
   "codemirror_mode": {
    "name": "ipython",
    "version": 3
   },
   "file_extension": ".py",
   "mimetype": "text/x-python",
   "name": "python",
   "nbconvert_exporter": "python",
   "pygments_lexer": "ipython3",
   "version": "3.10.13"
  }
 },
 "nbformat": 4,
 "nbformat_minor": 2
}
