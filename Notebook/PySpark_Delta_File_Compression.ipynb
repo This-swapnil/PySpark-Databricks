{
 "cells": [
  {
   "cell_type": "code",
   "execution_count": 1,
   "metadata": {},
   "outputs": [
    {
     "name": "stdout",
     "output_type": "stream",
     "text": [
      ":: loading settings :: url = jar:file:/home/nil/anaconda3/envs/spark/lib/python3.12/site-packages/pyspark/jars/ivy-2.5.1.jar!/org/apache/ivy/core/settings/ivysettings.xml\n"
     ]
    },
    {
     "name": "stderr",
     "output_type": "stream",
     "text": [
      "Ivy Default Cache set to: /home/nil/.ivy2/cache\n",
      "The jars for the packages stored in: /home/nil/.ivy2/jars\n",
      "io.delta#delta-spark_2.12 added as a dependency\n",
      ":: resolving dependencies :: org.apache.spark#spark-submit-parent-3f901d6c-4b0c-4d13-8172-5d355ae5800f;1.0\n",
      "\tconfs: [default]\n",
      "\tfound io.delta#delta-spark_2.12;3.1.0 in central\n",
      "\tfound io.delta#delta-storage;3.1.0 in central\n",
      "\tfound org.antlr#antlr4-runtime;4.9.3 in central\n",
      ":: resolution report :: resolve 211ms :: artifacts dl 7ms\n",
      "\t:: modules in use:\n",
      "\tio.delta#delta-spark_2.12;3.1.0 from central in [default]\n",
      "\tio.delta#delta-storage;3.1.0 from central in [default]\n",
      "\torg.antlr#antlr4-runtime;4.9.3 from central in [default]\n",
      "\t---------------------------------------------------------------------\n",
      "\t|                  |            modules            ||   artifacts   |\n",
      "\t|       conf       | number| search|dwnlded|evicted|| number|dwnlded|\n",
      "\t---------------------------------------------------------------------\n",
      "\t|      default     |   3   |   0   |   0   |   0   ||   3   |   0   |\n",
      "\t---------------------------------------------------------------------\n",
      ":: retrieving :: org.apache.spark#spark-submit-parent-3f901d6c-4b0c-4d13-8172-5d355ae5800f\n",
      "\tconfs: [default]\n",
      "\t0 artifacts copied, 3 already retrieved (0kB/5ms)\n",
      "24/02/22 12:10:22 WARN NativeCodeLoader: Unable to load native-hadoop library for your platform... using builtin-java classes where applicable\n",
      "Setting default log level to \"WARN\".\n",
      "To adjust logging level use sc.setLogLevel(newLevel). For SparkR, use setLogLevel(newLevel).\n"
     ]
    }
   ],
   "source": [
    "from pyspark.sql import SparkSession\n",
    "from delta import *\n",
    "\n",
    "builder = (\n",
    "    SparkSession.builder.appName(\"MyApp\")\n",
    "    .config(\"spark.sql.extensions\", \"io.delta.sql.DeltaSparkSessionExtension\")\n",
    "    .config(\n",
    "        \"spark.sql.catalog.spark_catalog\",\n",
    "        \"org.apache.spark.sql.delta.catalog.DeltaCatalog\",\n",
    "    )\n",
    ")\n",
    "spark = configure_spark_with_delta_pip(builder).getOrCreate()"
   ]
  },
  {
   "cell_type": "code",
   "execution_count": 2,
   "metadata": {},
   "outputs": [
    {
     "name": "stderr",
     "output_type": "stream",
     "text": [
      "24/02/22 12:10:31 WARN SparkStringUtils: Truncated the string representation of a plan since it was too large. This behavior can be adjusted by setting 'spark.sql.debug.maxToStringFields'.\n",
      "24/02/22 12:10:33 WARN GarbageCollectionMetrics: To enable non-built-in garbage collector(s) List(G1 Concurrent GC), users should configure it(them) to spark.eventLog.gcMetrics.youngGenerationGarbageCollectors or spark.eventLog.gcMetrics.oldGenerationGarbageCollectors\n",
      "                                                                                \r"
     ]
    },
    {
     "data": {
      "text/plain": [
       "DataFrame[]"
      ]
     },
     "execution_count": 2,
     "metadata": {},
     "output_type": "execute_result"
    }
   ],
   "source": [
    "spark.sql(\n",
    "    \"\"\"CREATE OR REPLACE TABLE scd2Demo(\n",
    "    pk1 INT,\n",
    "    pk2 STRING,\n",
    "    dim1 INT,\n",
    "    dim2 INT,\n",
    "    dim3 int,\n",
    "    dim4 int,\n",
    "    active_status string,\n",
    "    start_date timestamp,\n",
    "    end_date timestamp\n",
    ")\n",
    "USING DELTA\n",
    "LOCATION '/mnt/sda3/iNeuron/Data Engineering/pySpark/Delta_Lake/delta_lake_06'\"\"\"\n",
    ")"
   ]
  },
  {
   "cell_type": "code",
   "execution_count": 3,
   "metadata": {},
   "outputs": [
    {
     "name": "stderr",
     "output_type": "stream",
     "text": [
      "                                                                                \r"
     ]
    },
    {
     "data": {
      "text/plain": [
       "DataFrame[]"
      ]
     },
     "execution_count": 3,
     "metadata": {},
     "output_type": "execute_result"
    }
   ],
   "source": [
    "spark.sql(\n",
    "    \"\"\"INSERT INTO scd2Demo VALUES \n",
    "    (111,'Unit1',200,500,800,400,'Y',current_timestamp(),'9999-12-31'),\n",
    "    (222,'Unit2',900,Null,700,100,'Y',current_timestamp(),'9999-12-31'),\n",
    "    (333,'Unit3',300,900,250,650,'Y',current_timestamp(),'9999-12-31')\n",
    "    \"\"\"\n",
    ")"
   ]
  },
  {
   "cell_type": "code",
   "execution_count": 4,
   "metadata": {},
   "outputs": [
    {
     "name": "stdout",
     "output_type": "stream",
     "text": [
      "+---+-----+----+----+----+----+-------------+--------------------------+-------------------+\n",
      "|pk1|pk2  |dim1|dim2|dim3|dim4|active_status|start_date                |end_date           |\n",
      "+---+-----+----+----+----+----+-------------+--------------------------+-------------------+\n",
      "|111|Unit1|200 |500 |800 |400 |Y            |2024-02-22 12:10:36.874325|9999-12-31 00:00:00|\n",
      "|333|Unit3|300 |900 |250 |650 |Y            |2024-02-22 12:10:36.874646|9999-12-31 00:00:00|\n",
      "|222|Unit2|900 |NULL|700 |100 |Y            |2024-02-22 12:10:36.874519|9999-12-31 00:00:00|\n",
      "+---+-----+----+----+----+----+-------------+--------------------------+-------------------+\n",
      "\n"
     ]
    }
   ],
   "source": [
    "spark.sql(\"select * from scd2demo\").show(truncate=False)"
   ]
  },
  {
   "cell_type": "code",
   "execution_count": 5,
   "metadata": {},
   "outputs": [
    {
     "name": "stderr",
     "output_type": "stream",
     "text": [
      "                                                                                \r"
     ]
    },
    {
     "data": {
      "text/plain": [
       "DataFrame[]"
      ]
     },
     "execution_count": 5,
     "metadata": {},
     "output_type": "execute_result"
    }
   ],
   "source": [
    "spark.sql(\n",
    "    \"\"\"INSERT INTO scd2Demo VALUES \n",
    "    (666,'Unit6',200,500,800,400,'Y',current_timestamp(),'9999-12-31'),\n",
    "    (777,'Unit7',900,Null,700,100,'Y',current_timestamp(),'9999-12-31'),\n",
    "    (888,'Unit8',300,900,250,650,'Y',current_timestamp(),'9999-12-31')\n",
    "    \"\"\"\n",
    ")"
   ]
  },
  {
   "cell_type": "code",
   "execution_count": 6,
   "metadata": {},
   "outputs": [
    {
     "name": "stdout",
     "output_type": "stream",
     "text": [
      "+---+-----+----+----+----+----+-------------+--------------------------+-------------------+\n",
      "|pk1|pk2  |dim1|dim2|dim3|dim4|active_status|start_date                |end_date           |\n",
      "+---+-----+----+----+----+----+-------------+--------------------------+-------------------+\n",
      "|111|Unit1|200 |500 |800 |400 |Y            |2024-02-22 12:10:36.874325|9999-12-31 00:00:00|\n",
      "|888|Unit8|300 |900 |250 |650 |Y            |2024-02-22 12:10:42.362638|9999-12-31 00:00:00|\n",
      "|333|Unit3|300 |900 |250 |650 |Y            |2024-02-22 12:10:36.874646|9999-12-31 00:00:00|\n",
      "|666|Unit6|200 |500 |800 |400 |Y            |2024-02-22 12:10:42.362458|9999-12-31 00:00:00|\n",
      "|777|Unit7|900 |NULL|700 |100 |Y            |2024-02-22 12:10:42.362578|9999-12-31 00:00:00|\n",
      "|222|Unit2|900 |NULL|700 |100 |Y            |2024-02-22 12:10:36.874519|9999-12-31 00:00:00|\n",
      "+---+-----+----+----+----+----+-------------+--------------------------+-------------------+\n",
      "\n"
     ]
    }
   ],
   "source": [
    "spark.sql(\"select * from scd2demo\").show(truncate=False)"
   ]
  },
  {
   "cell_type": "code",
   "execution_count": 7,
   "metadata": {},
   "outputs": [
    {
     "name": "stderr",
     "output_type": "stream",
     "text": [
      "                                                                                \r"
     ]
    },
    {
     "data": {
      "text/plain": [
       "DataFrame[num_affected_rows: bigint]"
      ]
     },
     "execution_count": 7,
     "metadata": {},
     "output_type": "execute_result"
    }
   ],
   "source": [
    "spark.sql(\"DELETE FROM scd2demo where pk1=777\")"
   ]
  },
  {
   "cell_type": "code",
   "execution_count": 8,
   "metadata": {},
   "outputs": [
    {
     "name": "stdout",
     "output_type": "stream",
     "text": [
      "+---+-----+----+----+----+----+-------------+--------------------------+-------------------+\n",
      "|pk1|pk2  |dim1|dim2|dim3|dim4|active_status|start_date                |end_date           |\n",
      "+---+-----+----+----+----+----+-------------+--------------------------+-------------------+\n",
      "|111|Unit1|200 |500 |800 |400 |Y            |2024-02-22 12:10:36.874325|9999-12-31 00:00:00|\n",
      "|888|Unit8|300 |900 |250 |650 |Y            |2024-02-22 12:10:42.362638|9999-12-31 00:00:00|\n",
      "|333|Unit3|300 |900 |250 |650 |Y            |2024-02-22 12:10:36.874646|9999-12-31 00:00:00|\n",
      "|666|Unit6|200 |500 |800 |400 |Y            |2024-02-22 12:10:42.362458|9999-12-31 00:00:00|\n",
      "|222|Unit2|900 |NULL|700 |100 |Y            |2024-02-22 12:10:36.874519|9999-12-31 00:00:00|\n",
      "+---+-----+----+----+----+----+-------------+--------------------------+-------------------+\n",
      "\n"
     ]
    }
   ],
   "source": [
    "spark.sql(\"select * from scd2demo\").show(truncate=False)"
   ]
  },
  {
   "cell_type": "code",
   "execution_count": 9,
   "metadata": {},
   "outputs": [
    {
     "name": "stderr",
     "output_type": "stream",
     "text": [
      "                                                                                \r"
     ]
    },
    {
     "data": {
      "text/plain": [
       "DataFrame[num_affected_rows: bigint]"
      ]
     },
     "execution_count": 9,
     "metadata": {},
     "output_type": "execute_result"
    }
   ],
   "source": [
    "spark.sql(\"UPDATE scd2Demo SET dim1 = 100 where pk1=666\")"
   ]
  },
  {
   "cell_type": "code",
   "execution_count": 10,
   "metadata": {},
   "outputs": [
    {
     "name": "stdout",
     "output_type": "stream",
     "text": [
      "+---+-----+----+----+----+----+-------------+--------------------------+-------------------+\n",
      "|pk1|pk2  |dim1|dim2|dim3|dim4|active_status|start_date                |end_date           |\n",
      "+---+-----+----+----+----+----+-------------+--------------------------+-------------------+\n",
      "|666|Unit6|100 |500 |800 |400 |Y            |2024-02-22 12:10:42.362458|9999-12-31 00:00:00|\n",
      "|111|Unit1|200 |500 |800 |400 |Y            |2024-02-22 12:10:36.874325|9999-12-31 00:00:00|\n",
      "|888|Unit8|300 |900 |250 |650 |Y            |2024-02-22 12:10:42.362638|9999-12-31 00:00:00|\n",
      "|333|Unit3|300 |900 |250 |650 |Y            |2024-02-22 12:10:36.874646|9999-12-31 00:00:00|\n",
      "|222|Unit2|900 |NULL|700 |100 |Y            |2024-02-22 12:10:36.874519|9999-12-31 00:00:00|\n",
      "+---+-----+----+----+----+----+-------------+--------------------------+-------------------+\n",
      "\n"
     ]
    }
   ],
   "source": [
    "spark.sql(\"select * from scd2demo\").show(truncate=False)"
   ]
  },
  {
   "cell_type": "code",
   "execution_count": 11,
   "metadata": {},
   "outputs": [
    {
     "name": "stderr",
     "output_type": "stream",
     "text": [
      "[Stage 72:=================================================>      (44 + 6) / 50]\r"
     ]
    },
    {
     "name": "stdout",
     "output_type": "stream",
     "text": [
      "+------------------------------------------------------------------------+----------------------------------------------------------------------------------------------------------------------------------------------+\n",
      "|path                                                                    |metrics                                                                                                                                       |\n",
      "+------------------------------------------------------------------------+----------------------------------------------------------------------------------------------------------------------------------------------+\n",
      "|file:/mnt/sda3/iNeuron/Data Engineering/pySpark/Delta_Lake/delta_lake_06|{1, 5, {2583, 2583, 2583.0, 1, 2583}, {2366, 2403, 2395.6, 5, 11978}, 1, NULL, 1, 5, 0, false, 0, 0, 1708584056418, 0, 8, 0, NULL, NULL, 9, 9}|\n",
      "+------------------------------------------------------------------------+----------------------------------------------------------------------------------------------------------------------------------------------+\n",
      "\n"
     ]
    },
    {
     "name": "stderr",
     "output_type": "stream",
     "text": [
      "                                                                                \r"
     ]
    }
   ],
   "source": [
    "spark.sql(\"OPTIMIZE scd2Demo\").show(truncate=False)"
   ]
  },
  {
   "cell_type": "code",
   "execution_count": null,
   "metadata": {},
   "outputs": [],
   "source": []
  }
 ],
 "metadata": {
  "kernelspec": {
   "display_name": "spark",
   "language": "python",
   "name": "python3"
  },
  "language_info": {
   "codemirror_mode": {
    "name": "ipython",
    "version": 3
   },
   "file_extension": ".py",
   "mimetype": "text/x-python",
   "name": "python",
   "nbconvert_exporter": "python",
   "pygments_lexer": "ipython3",
   "version": "3.12.1"
  }
 },
 "nbformat": 4,
 "nbformat_minor": 2
}
