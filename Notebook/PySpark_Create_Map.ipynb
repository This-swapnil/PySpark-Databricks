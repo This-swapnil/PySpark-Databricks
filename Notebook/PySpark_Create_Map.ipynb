{
 "cells": [
  {
   "cell_type": "code",
   "execution_count": 1,
   "metadata": {},
   "outputs": [
    {
     "name": "stderr",
     "output_type": "stream",
     "text": [
      "Setting default log level to \"WARN\".\n",
      "To adjust logging level use sc.setLogLevel(newLevel). For SparkR, use setLogLevel(newLevel).\n",
      "24/02/23 12:05:12 WARN NativeCodeLoader: Unable to load native-hadoop library for your platform... using builtin-java classes where applicable\n"
     ]
    },
    {
     "name": "stderr",
     "output_type": "stream",
     "text": [
      "24/02/23 12:05:26 WARN GarbageCollectionMetrics: To enable non-built-in garbage collector(s) List(G1 Concurrent GC), users should configure it(them) to spark.eventLog.gcMetrics.youngGenerationGarbageCollectors or spark.eventLog.gcMetrics.oldGenerationGarbageCollectors\n"
     ]
    }
   ],
   "source": [
    "from pyspark.sql import SparkSession\n",
    "\n",
    "ss = SparkSession.builder.appName(\"Create_Map()\").getOrCreate()"
   ]
  },
  {
   "cell_type": "code",
   "execution_count": 2,
   "metadata": {},
   "outputs": [],
   "source": [
    "from pyspark.sql.types import StructType, StructField, StringType, IntegerType"
   ]
  },
  {
   "cell_type": "code",
   "execution_count": 4,
   "metadata": {},
   "outputs": [
    {
     "name": "stdout",
     "output_type": "stream",
     "text": [
      "+----------+------------+-----+---------------+\n",
      "|Product_id|Product_name|Price|DiscountPercent|\n",
      "+----------+------------+-----+---------------+\n",
      "|       100|      Mobile|20000|             10|\n",
      "|       200|      Laptop|85000|             12|\n",
      "|       300|  Television|45000|              8|\n",
      "|       400|     Monitor| 7000|              9|\n",
      "|       500|     Headset| 6500|             15|\n",
      "+----------+------------+-----+---------------+\n",
      "\n"
     ]
    }
   ],
   "source": [
    "sample_data = (\n",
    "    (100, \"Mobile\", 20000, 10),\n",
    "    (200, \"Laptop\", 85000, 12),\n",
    "    (300, \"Television\", 45000, 8),\n",
    "    (400, \"Monitor\", 7000, 9),\n",
    "    (500, \"Headset\", 6500, 15),\n",
    ")\n",
    "\n",
    "defSchema = StructType(\n",
    "    [\n",
    "        StructField(\"Product_id\", IntegerType(), False),\n",
    "        StructField(\"Product_name\", StringType(), False),\n",
    "        StructField(\"Price\", IntegerType(), False),\n",
    "        StructField(\"DiscountPercent\", IntegerType(), False),\n",
    "    ]\n",
    ")\n",
    "\n",
    "df = ss.createDataFrame(data=sample_data, schema=defSchema)\n",
    "df.show()"
   ]
  },
  {
   "cell_type": "markdown",
   "metadata": {},
   "source": [
    "#### Create_map -Convert columns to Dictionary"
   ]
  },
  {
   "cell_type": "code",
   "execution_count": 5,
   "metadata": {},
   "outputs": [],
   "source": [
    "from pyspark.sql.functions import col, lit, create_map"
   ]
  },
  {
   "cell_type": "code",
   "execution_count": 7,
   "metadata": {},
   "outputs": [
    {
     "name": "stdout",
     "output_type": "stream",
     "text": [
      "+----------+------------+-----+---------------+---------------------+\n",
      "|Product_id|Product_name|Price|DiscountPercent|PriceDict            |\n",
      "+----------+------------+-----+---------------+---------------------+\n",
      "|100       |Mobile      |20000|10             |{Mobile -> 20000}    |\n",
      "|200       |Laptop      |85000|12             |{Laptop -> 85000}    |\n",
      "|300       |Television  |45000|8              |{Television -> 45000}|\n",
      "|400       |Monitor     |7000 |9              |{Monitor -> 7000}    |\n",
      "|500       |Headset     |6500 |15             |{Headset -> 6500}    |\n",
      "+----------+------------+-----+---------------+---------------------+\n",
      "\n"
     ]
    }
   ],
   "source": [
    "dfDict = df.select(\n",
    "    col(\"Product_id\"),\n",
    "    col(\"Product_name\"),\n",
    "    col(\"Price\"),\n",
    "    col(\"DiscountPercent\"),\n",
    "    create_map(col(\"Product_name\"), col(\"Price\")).alias(\"PriceDict\"),\n",
    ")\n",
    "dfDict.show(truncate=False)"
   ]
  },
  {
   "cell_type": "code",
   "execution_count": 8,
   "metadata": {},
   "outputs": [
    {
     "name": "stdout",
     "output_type": "stream",
     "text": [
      "+----------+------------+-----+---------------+--------------------------------------------+\n",
      "|Product_id|Product_name|Price|DiscountPercent|PriceDict                                   |\n",
      "+----------+------------+-----+---------------+--------------------------------------------+\n",
      "|100       |Mobile      |20000|10             |{Product_name -> Mobile, Price -> 20000}    |\n",
      "|200       |Laptop      |85000|12             |{Product_name -> Laptop, Price -> 85000}    |\n",
      "|300       |Television  |45000|8              |{Product_name -> Television, Price -> 45000}|\n",
      "|400       |Monitor     |7000 |9              |{Product_name -> Monitor, Price -> 7000}    |\n",
      "|500       |Headset     |6500 |15             |{Product_name -> Headset, Price -> 6500}    |\n",
      "+----------+------------+-----+---------------+--------------------------------------------+\n",
      "\n"
     ]
    }
   ],
   "source": [
    "dfDict = df.withColumn(\n",
    "    \"PriceDict\",\n",
    "    create_map(lit(\"Product_name\"), col(\"Product_name\"), lit(\"Price\"), col(\"Price\")),\n",
    ")\n",
    "dfDict.show(truncate=False)"
   ]
  },
  {
   "cell_type": "code",
   "execution_count": 9,
   "metadata": {},
   "outputs": [
    {
     "name": "stdout",
     "output_type": "stream",
     "text": [
      "+----------+------------+-----+---------------+------------------------------------------------------------------+\n",
      "|Product_id|Product_name|Price|DiscountPercent|PriceDict                                                         |\n",
      "+----------+------------+-----+---------------+------------------------------------------------------------------+\n",
      "|100       |Mobile      |20000|10             |{Product_name -> Mobile, Price -> 20000, DiscountPercent -> 10}   |\n",
      "|200       |Laptop      |85000|12             |{Product_name -> Laptop, Price -> 85000, DiscountPercent -> 12}   |\n",
      "|300       |Television  |45000|8              |{Product_name -> Television, Price -> 45000, DiscountPercent -> 8}|\n",
      "|400       |Monitor     |7000 |9              |{Product_name -> Monitor, Price -> 7000, DiscountPercent -> 9}    |\n",
      "|500       |Headset     |6500 |15             |{Product_name -> Headset, Price -> 6500, DiscountPercent -> 15}   |\n",
      "+----------+------------+-----+---------------+------------------------------------------------------------------+\n",
      "\n"
     ]
    }
   ],
   "source": [
    "dfDict = df.withColumn(\n",
    "    \"PriceDict\",\n",
    "    create_map(\n",
    "        lit(\"Product_name\"),\n",
    "        col(\"Product_name\"),\n",
    "        lit(\"Price\"),\n",
    "        col(\"Price\"),\n",
    "        lit(\"DiscountPercent\"),\n",
    "        col(\"DiscountPercent\"),\n",
    "    ),\n",
    ")\n",
    "dfDict.show(truncate=False)"
   ]
  },
  {
   "cell_type": "code",
   "execution_count": 10,
   "metadata": {},
   "outputs": [
    {
     "name": "stdout",
     "output_type": "stream",
     "text": [
      "root\n",
      " |-- Product_id: integer (nullable = false)\n",
      " |-- Product_name: string (nullable = false)\n",
      " |-- Price: integer (nullable = false)\n",
      " |-- DiscountPercent: integer (nullable = false)\n",
      "\n"
     ]
    }
   ],
   "source": [
    "df.printSchema()"
   ]
  },
  {
   "cell_type": "code",
   "execution_count": 11,
   "metadata": {},
   "outputs": [
    {
     "name": "stdout",
     "output_type": "stream",
     "text": [
      "root\n",
      " |-- Product_id: integer (nullable = false)\n",
      " |-- Product_name: string (nullable = false)\n",
      " |-- Price: integer (nullable = false)\n",
      " |-- DiscountPercent: integer (nullable = false)\n",
      " |-- PriceDict: map (nullable = false)\n",
      " |    |-- key: string\n",
      " |    |-- value: string (valueContainsNull = false)\n",
      "\n"
     ]
    }
   ],
   "source": [
    "dfDict.printSchema()"
   ]
  },
  {
   "cell_type": "code",
   "execution_count": null,
   "metadata": {},
   "outputs": [],
   "source": []
  }
 ],
 "metadata": {
  "kernelspec": {
   "display_name": "spark",
   "language": "python",
   "name": "python3"
  },
  "language_info": {
   "codemirror_mode": {
    "name": "ipython",
    "version": 3
   },
   "file_extension": ".py",
   "mimetype": "text/x-python",
   "name": "python",
   "nbconvert_exporter": "python",
   "pygments_lexer": "ipython3",
   "version": "3.12.1"
  }
 },
 "nbformat": 4,
 "nbformat_minor": 2
}
