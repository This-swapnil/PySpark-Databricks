{
 "cells": [
  {
   "cell_type": "code",
   "execution_count": 2,
   "metadata": {},
   "outputs": [
    {
     "name": "stderr",
     "output_type": "stream",
     "text": [
      "24/02/22 14:43:51 WARN SparkSession: Using an existing Spark session; only runtime SQL configurations will take effect.\n"
     ]
    }
   ],
   "source": [
    "from pyspark.sql import SparkSession\n",
    "\n",
    "spark = SparkSession.builder.appName(\n",
    "    \"PySpark_Dataframe_Insert_into_Spark_table\"\n",
    ").getOrCreate()"
   ]
  },
  {
   "cell_type": "code",
   "execution_count": 3,
   "metadata": {},
   "outputs": [
    {
     "name": "stderr",
     "output_type": "stream",
     "text": [
      "                                                                                \r"
     ]
    },
    {
     "name": "stdout",
     "output_type": "stream",
     "text": [
      "+-----------+-------+-------+\n",
      "|Company    |Quarter|Revenue|\n",
      "+-----------+-------+-------+\n",
      "|ABC pvt ltd|Q1     |2000   |\n",
      "|XYZ pvt ltd|Q1     |5000   |\n",
      "|KLM pvt ltd|Q1     |2000   |\n",
      "+-----------+-------+-------+\n",
      "\n"
     ]
    }
   ],
   "source": [
    "data = [\n",
    "    (\"ABC pvt ltd\", \"Q1\", 2000),\n",
    "    (\"XYZ pvt ltd\", \"Q1\", 5000),\n",
    "    (\"KLM pvt ltd\", \"Q1\", 2000),\n",
    "]\n",
    "\n",
    "column = [\"Company\", \"Quarter\", \"Revenue\"]\n",
    "df = spark.createDataFrame(data=data, schema=column)\n",
    "df.show(truncate=False)"
   ]
  },
  {
   "cell_type": "code",
   "execution_count": 4,
   "metadata": {},
   "outputs": [
    {
     "name": "stderr",
     "output_type": "stream",
     "text": [
      "                                                                                \r"
     ]
    }
   ],
   "source": [
    "df.write.saveAsTable(\"default.fact_revenue\")"
   ]
  },
  {
   "cell_type": "code",
   "execution_count": 5,
   "metadata": {},
   "outputs": [
    {
     "name": "stdout",
     "output_type": "stream",
     "text": [
      "+-----------+-------+-------+\n",
      "|    Company|Quarter|Revenue|\n",
      "+-----------+-------+-------+\n",
      "|XYZ pvt ltd|     Q1|   5000|\n",
      "|KLM pvt ltd|     Q1|   2000|\n",
      "|ABC pvt ltd|     Q1|   2000|\n",
      "+-----------+-------+-------+\n",
      "\n"
     ]
    }
   ],
   "source": [
    "# 1st way to show the result\n",
    "spark.table(\"default.fact_revenue\").show()"
   ]
  },
  {
   "cell_type": "code",
   "execution_count": 6,
   "metadata": {},
   "outputs": [
    {
     "name": "stdout",
     "output_type": "stream",
     "text": [
      "+-----------+-------+-------+\n",
      "|    Company|Quarter|Revenue|\n",
      "+-----------+-------+-------+\n",
      "|XYZ pvt ltd|     Q1|   5000|\n",
      "|KLM pvt ltd|     Q1|   2000|\n",
      "|ABC pvt ltd|     Q1|   2000|\n",
      "+-----------+-------+-------+\n",
      "\n"
     ]
    }
   ],
   "source": [
    "# 2nd way to show the result\n",
    "spark.sql(\"select * from default.fact_revenue\").show()"
   ]
  },
  {
   "cell_type": "code",
   "execution_count": null,
   "metadata": {},
   "outputs": [],
   "source": [
    "# 3rd way to show the result\n",
    "%sql\n",
    "select * from default.fact_revenue"
   ]
  },
  {
   "cell_type": "code",
   "execution_count": 7,
   "metadata": {},
   "outputs": [
    {
     "name": "stdout",
     "output_type": "stream",
     "text": [
      "+-----------+-------+-------+\n",
      "|    Company|Quarter|Revenue|\n",
      "+-----------+-------+-------+\n",
      "|RST pvt ltd|     Q4|   7000|\n",
      "+-----------+-------+-------+\n",
      "\n"
     ]
    }
   ],
   "source": [
    "data = [(\"RST pvt ltd\", \"Q4\", 7000)]\n",
    "\n",
    "column = [\"Company\", \"Quarter\", \"Revenue\"]\n",
    "df1 = spark.createDataFrame(data, column)\n",
    "df1.show()"
   ]
  },
  {
   "cell_type": "markdown",
   "metadata": {},
   "source": [
    "- overwrite=False"
   ]
  },
  {
   "cell_type": "code",
   "execution_count": 8,
   "metadata": {},
   "outputs": [],
   "source": [
    "df1.write.insertInto(\"default.fact_revenue\", overwrite=False)"
   ]
  },
  {
   "cell_type": "code",
   "execution_count": 9,
   "metadata": {},
   "outputs": [
    {
     "name": "stdout",
     "output_type": "stream",
     "text": [
      "+-----------+-------+-------+\n",
      "|    Company|Quarter|Revenue|\n",
      "+-----------+-------+-------+\n",
      "|XYZ pvt ltd|     Q1|   5000|\n",
      "|RST pvt ltd|     Q4|   7000|\n",
      "|KLM pvt ltd|     Q1|   2000|\n",
      "|ABC pvt ltd|     Q1|   2000|\n",
      "+-----------+-------+-------+\n",
      "\n"
     ]
    }
   ],
   "source": [
    "# 1st way to show the result\n",
    "spark.table(\"default.fact_revenue\").show()"
   ]
  },
  {
   "cell_type": "markdown",
   "metadata": {},
   "source": [
    "- overwrite=True"
   ]
  },
  {
   "cell_type": "code",
   "execution_count": 10,
   "metadata": {},
   "outputs": [
    {
     "name": "stdout",
     "output_type": "stream",
     "text": [
      "+-----------+-------+-------+\n",
      "|    Company|Quarter|Revenue|\n",
      "+-----------+-------+-------+\n",
      "|ORT pvt ltd|     Q3|   3000|\n",
      "+-----------+-------+-------+\n",
      "\n"
     ]
    }
   ],
   "source": [
    "data = [(\"ORT pvt ltd\", \"Q3\", 3000)]\n",
    "\n",
    "column = [\"Company\", \"Quarter\", \"Revenue\"]\n",
    "df2 = spark.createDataFrame(data, column)\n",
    "df2.show()"
   ]
  },
  {
   "cell_type": "code",
   "execution_count": 11,
   "metadata": {},
   "outputs": [],
   "source": [
    "df2.write.insertInto(\"default.fact_revenue\", overwrite=True)"
   ]
  },
  {
   "cell_type": "code",
   "execution_count": 12,
   "metadata": {},
   "outputs": [
    {
     "name": "stdout",
     "output_type": "stream",
     "text": [
      "+-----------+-------+-------+\n",
      "|    Company|Quarter|Revenue|\n",
      "+-----------+-------+-------+\n",
      "|ORT pvt ltd|     Q3|   3000|\n",
      "+-----------+-------+-------+\n",
      "\n"
     ]
    }
   ],
   "source": [
    "spark.table(\"default.fact_revenue\").show()"
   ]
  },
  {
   "cell_type": "markdown",
   "metadata": {},
   "source": [
    "- SQL magic command"
   ]
  },
  {
   "cell_type": "code",
   "execution_count": 13,
   "metadata": {},
   "outputs": [
    {
     "name": "stdout",
     "output_type": "stream",
     "text": [
      "+-----------+-------+-------+\n",
      "|    Company|Quarter|Revenue|\n",
      "+-----------+-------+-------+\n",
      "|ABC pvt ltd|     Q3|   4000|\n",
      "+-----------+-------+-------+\n",
      "\n"
     ]
    }
   ],
   "source": [
    "data = [(\"ABC pvt ltd\", \"Q3\", 4000)]\n",
    "\n",
    "column = [\"Company\", \"Quarter\", \"Revenue\"]\n",
    "df3 = spark.createDataFrame(data, column)\n",
    "df3.show()"
   ]
  },
  {
   "cell_type": "code",
   "execution_count": 14,
   "metadata": {},
   "outputs": [],
   "source": [
    "df3.createOrReplaceTempView(\"v_insert_data\")"
   ]
  },
  {
   "cell_type": "code",
   "execution_count": 15,
   "metadata": {},
   "outputs": [
    {
     "data": {
      "text/plain": [
       "DataFrame[]"
      ]
     },
     "execution_count": 15,
     "metadata": {},
     "output_type": "execute_result"
    }
   ],
   "source": [
    "spark.sql(\"insert into default.fact_revenue select * from v_insert_data\")"
   ]
  },
  {
   "cell_type": "code",
   "execution_count": 16,
   "metadata": {},
   "outputs": [
    {
     "name": "stdout",
     "output_type": "stream",
     "text": [
      "+-----------+-------+-------+\n",
      "|    Company|Quarter|Revenue|\n",
      "+-----------+-------+-------+\n",
      "|ORT pvt ltd|     Q3|   3000|\n",
      "|ABC pvt ltd|     Q3|   4000|\n",
      "+-----------+-------+-------+\n",
      "\n"
     ]
    }
   ],
   "source": [
    "spark.table(\"default.fact_revenue\").show()"
   ]
  },
  {
   "cell_type": "code",
   "execution_count": null,
   "metadata": {},
   "outputs": [],
   "source": []
  }
 ],
 "metadata": {
  "kernelspec": {
   "display_name": "spark",
   "language": "python",
   "name": "python3"
  },
  "language_info": {
   "codemirror_mode": {
    "name": "ipython",
    "version": 3
   },
   "file_extension": ".py",
   "mimetype": "text/x-python",
   "name": "python",
   "nbconvert_exporter": "python",
   "pygments_lexer": "ipython3",
   "version": "3.12.1"
  }
 },
 "nbformat": 4,
 "nbformat_minor": 2
}
