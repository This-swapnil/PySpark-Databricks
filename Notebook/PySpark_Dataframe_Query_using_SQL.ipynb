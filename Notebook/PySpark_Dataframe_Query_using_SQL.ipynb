{
 "cells": [
  {
   "cell_type": "code",
   "execution_count": 1,
   "metadata": {},
   "outputs": [
    {
     "name": "stderr",
     "output_type": "stream",
     "text": [
      "Setting default log level to \"WARN\".\n",
      "To adjust logging level use sc.setLogLevel(newLevel). For SparkR, use setLogLevel(newLevel).\n",
      "24/02/27 15:19:28 WARN NativeCodeLoader: Unable to load native-hadoop library for your platform... using builtin-java classes where applicable\n"
     ]
    }
   ],
   "source": [
    "from pyspark.sql import SparkSession\n",
    "\n",
    "spark = SparkSession.builder.appName(\"Dataframe_query_using_SQL\").getOrCreate()"
   ]
  },
  {
   "cell_type": "code",
   "execution_count": 2,
   "metadata": {},
   "outputs": [],
   "source": [
    "from pyspark.sql.functions import *"
   ]
  },
  {
   "cell_type": "code",
   "execution_count": 3,
   "metadata": {},
   "outputs": [
    {
     "name": "stderr",
     "output_type": "stream",
     "text": [
      "                                                                                \r"
     ]
    },
    {
     "name": "stdout",
     "output_type": "stream",
     "text": [
      "+-----------+----------------+------+\n",
      "|customer_id|transaction_date|amount|\n",
      "+-----------+----------------+------+\n",
      "|         C1|      2023-06-01| 100.0|\n",
      "|         C1|      2023-06-02| 150.0|\n",
      "|         C1|      2023-06-03| 200.0|\n",
      "|         C2|      2023-06-02|  50.0|\n",
      "|         C2|      2023-06-03|  75.0|\n",
      "|         C2|      2023-06-04| 100.0|\n",
      "+-----------+----------------+------+\n",
      "\n"
     ]
    }
   ],
   "source": [
    "# create sample dataframe\n",
    "data = [\n",
    "    (\"C1\", \"2023-06-01\", 100.0),\n",
    "    (\"C1\", \"2023-06-02\", 150.0),\n",
    "    (\"C1\", \"2023-06-03\", 200.0),\n",
    "    (\"C2\", \"2023-06-02\", 50.0),\n",
    "    (\"C2\", \"2023-06-03\", 75.0),\n",
    "    (\"C2\", \"2023-06-04\", 100.0),\n",
    "]\n",
    "\n",
    "df = spark.createDataFrame(data, schema=[\"customer_id\", \"transaction_date\", \"amount\"])\n",
    "\n",
    "# convert the transaction_date column to date type\n",
    "df = df.withColumn(\"transaction_date\", to_date(\"transaction_date\"))\n",
    "\n",
    "df.show()"
   ]
  },
  {
   "cell_type": "code",
   "execution_count": 4,
   "metadata": {},
   "outputs": [
    {
     "name": "stdout",
     "output_type": "stream",
     "text": [
      "+-----------+----------------+------+\n",
      "|customer_id|transaction_date|amount|\n",
      "+-----------+----------------+------+\n",
      "|         C1|      2023-06-01| 100.0|\n",
      "|         C1|      2023-06-02| 150.0|\n",
      "|         C1|      2023-06-03| 200.0|\n",
      "|         C2|      2023-06-02|  50.0|\n",
      "|         C2|      2023-06-03|  75.0|\n",
      "|         C2|      2023-06-04| 100.0|\n",
      "+-----------+----------------+------+\n",
      "\n"
     ]
    },
    {
     "name": "stderr",
     "output_type": "stream",
     "text": [
      "24/02/27 15:19:41 WARN GarbageCollectionMetrics: To enable non-built-in garbage collector(s) List(G1 Concurrent GC), users should configure it(them) to spark.eventLog.gcMetrics.youngGenerationGarbageCollectors or spark.eventLog.gcMetrics.oldGenerationGarbageCollectors\n"
     ]
    }
   ],
   "source": [
    "spark.sql(\"select * from {table}\", table=df).show()"
   ]
  },
  {
   "cell_type": "code",
   "execution_count": null,
   "metadata": {},
   "outputs": [],
   "source": []
  }
 ],
 "metadata": {
  "kernelspec": {
   "display_name": "spark",
   "language": "python",
   "name": "python3"
  },
  "language_info": {
   "codemirror_mode": {
    "name": "ipython",
    "version": 3
   },
   "file_extension": ".py",
   "mimetype": "text/x-python",
   "name": "python",
   "nbconvert_exporter": "python",
   "pygments_lexer": "ipython3",
   "version": "3.12.1"
  }
 },
 "nbformat": 4,
 "nbformat_minor": 2
}
