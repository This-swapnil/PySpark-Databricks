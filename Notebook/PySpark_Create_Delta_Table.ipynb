{
 "cells": [
  {
   "cell_type": "code",
   "execution_count": 1,
   "metadata": {},
   "outputs": [
    {
     "name": "stdout",
     "output_type": "stream",
     "text": [
      ":: loading settings :: url = jar:file:/home/nil/anaconda3/envs/spark/lib/python3.10/site-packages/pyspark/jars/ivy-2.5.1.jar!/org/apache/ivy/core/settings/ivysettings.xml\n"
     ]
    },
    {
     "name": "stderr",
     "output_type": "stream",
     "text": [
      "Ivy Default Cache set to: /home/nil/.ivy2/cache\n",
      "The jars for the packages stored in: /home/nil/.ivy2/jars\n",
      "io.delta#delta-spark_2.12 added as a dependency\n",
      ":: resolving dependencies :: org.apache.spark#spark-submit-parent-4cb5ceda-146d-46e4-acdd-4681507952b3;1.0\n",
      "\tconfs: [default]\n",
      "\tfound io.delta#delta-spark_2.12;3.1.0 in central\n",
      "\tfound io.delta#delta-storage;3.1.0 in central\n",
      "\tfound org.antlr#antlr4-runtime;4.9.3 in central\n",
      ":: resolution report :: resolve 269ms :: artifacts dl 13ms\n",
      "\t:: modules in use:\n",
      "\tio.delta#delta-spark_2.12;3.1.0 from central in [default]\n",
      "\tio.delta#delta-storage;3.1.0 from central in [default]\n",
      "\torg.antlr#antlr4-runtime;4.9.3 from central in [default]\n",
      "\t---------------------------------------------------------------------\n",
      "\t|                  |            modules            ||   artifacts   |\n",
      "\t|       conf       | number| search|dwnlded|evicted|| number|dwnlded|\n",
      "\t---------------------------------------------------------------------\n",
      "\t|      default     |   3   |   0   |   0   |   0   ||   3   |   0   |\n",
      "\t---------------------------------------------------------------------\n",
      ":: retrieving :: org.apache.spark#spark-submit-parent-4cb5ceda-146d-46e4-acdd-4681507952b3\n",
      "\tconfs: [default]\n",
      "\t0 artifacts copied, 3 already retrieved (0kB/10ms)\n",
      "24/02/16 14:15:21 WARN NativeCodeLoader: Unable to load native-hadoop library for your platform... using builtin-java classes where applicable\n",
      "Setting default log level to \"WARN\".\n",
      "To adjust logging level use sc.setLogLevel(newLevel). For SparkR, use setLogLevel(newLevel).\n",
      "24/02/16 14:15:23 WARN Utils: Service 'SparkUI' could not bind on port 4040. Attempting port 4041.\n"
     ]
    },
    {
     "name": "stderr",
     "output_type": "stream",
     "text": [
      "24/02/16 14:15:34 WARN GarbageCollectionMetrics: To enable non-built-in garbage collector(s) List(G1 Concurrent GC), users should configure it(them) to spark.eventLog.gcMetrics.youngGenerationGarbageCollectors or spark.eventLog.gcMetrics.oldGenerationGarbageCollectors\n"
     ]
    }
   ],
   "source": [
    "from pyspark.sql import SparkSession\n",
    "from delta import *\n",
    "\n",
    "builder = (\n",
    "    SparkSession.builder.appName(\"MyApp\")\n",
    "    .config(\"spark.sql.extensions\", \"io.delta.sql.DeltaSparkSessionExtension\")\n",
    "    .config(\n",
    "        \"spark.sql.catalog.spark_catalog\",\n",
    "        \"org.apache.spark.sql.delta.catalog.DeltaCatalog\",\n",
    "    )\n",
    ")\n",
    "spark = configure_spark_with_delta_pip(builder).getOrCreate()"
   ]
  },
  {
   "cell_type": "markdown",
   "metadata": {},
   "source": [
    "-  Create Delta table"
   ]
  },
  {
   "cell_type": "code",
   "execution_count": 2,
   "metadata": {},
   "outputs": [
    {
     "name": "stderr",
     "output_type": "stream",
     "text": [
      "24/02/16 14:18:43 WARN SparkStringUtils: Truncated the string representation of a plan since it was too large. This behavior can be adjusted by setting 'spark.sql.debug.maxToStringFields'.\n",
      "                                                                                \r"
     ]
    },
    {
     "data": {
      "text/plain": [
       "DataFrame[]"
      ]
     },
     "execution_count": 2,
     "metadata": {},
     "output_type": "execute_result"
    }
   ],
   "source": [
    "spark.sql(\n",
    "    \"CREATE TABLE employee_table(emp_id INT,emp_Name STRING, gender STRING, salary INT,dept STRING) USING DELTA\"\n",
    ")"
   ]
  },
  {
   "cell_type": "code",
   "execution_count": 3,
   "metadata": {},
   "outputs": [
    {
     "name": "stdout",
     "output_type": "stream",
     "text": [
      "+---------+--------------+-----------+\n",
      "|namespace|tableName     |isTemporary|\n",
      "+---------+--------------+-----------+\n",
      "|default  |employee_table|false      |\n",
      "+---------+--------------+-----------+\n",
      "\n"
     ]
    }
   ],
   "source": [
    "spark.sql(\"show tables\").show(truncate=False)"
   ]
  },
  {
   "cell_type": "markdown",
   "metadata": {},
   "source": [
    "- create table if not exists"
   ]
  },
  {
   "cell_type": "code",
   "execution_count": 4,
   "metadata": {},
   "outputs": [
    {
     "data": {
      "text/plain": [
       "DataFrame[]"
      ]
     },
     "execution_count": 4,
     "metadata": {},
     "output_type": "execute_result"
    }
   ],
   "source": [
    "spark.sql(\n",
    "    \"CREATE TABLE IF NOT EXISTS employee_table(emp_id INT,emp_Name STRING, gender STRING, salary INT,dept STRING) USING DELTA\"\n",
    ")"
   ]
  },
  {
   "cell_type": "code",
   "execution_count": 5,
   "metadata": {},
   "outputs": [
    {
     "name": "stdout",
     "output_type": "stream",
     "text": [
      "+---------+--------------+-----------+\n",
      "|namespace|tableName     |isTemporary|\n",
      "+---------+--------------+-----------+\n",
      "|default  |employee_table|false      |\n",
      "+---------+--------------+-----------+\n",
      "\n"
     ]
    }
   ],
   "source": [
    "spark.sql(\"show tables\").show(truncate=False)"
   ]
  },
  {
   "cell_type": "markdown",
   "metadata": {},
   "source": [
    "- 2nd way to create table"
   ]
  },
  {
   "cell_type": "code",
   "execution_count": 6,
   "metadata": {},
   "outputs": [
    {
     "data": {
      "text/plain": [
       "<delta.tables.DeltaTable at 0x7378c2617d00>"
      ]
     },
     "execution_count": 6,
     "metadata": {},
     "output_type": "execute_result"
    }
   ],
   "source": [
    "DeltaTable.createIfNotExists(spark).tableName(\"employee_table\").addColumn(\n",
    "    \"emp_id\", \"INT\"\n",
    ").addColumn(\"emp_name\", \"STRING\").addColumn(\"gender\", \"STRING\").addColumn(\n",
    "    \"salary\", \"INT\"\n",
    ").addColumn(\n",
    "    \"Dept\", \"STRING\"\n",
    ").property(\n",
    "    \"description\", \"table created for demo purpose\"\n",
    ").location(\n",
    "    \"/mnt/sda3/iNeuron/Data Engineering/pySpark/Delta_Lake/delta_lake_01\"\n",
    ").execute()"
   ]
  },
  {
   "cell_type": "code",
   "execution_count": 7,
   "metadata": {},
   "outputs": [
    {
     "name": "stdout",
     "output_type": "stream",
     "text": [
      "+---------+--------------+-----------+\n",
      "|namespace|tableName     |isTemporary|\n",
      "+---------+--------------+-----------+\n",
      "|default  |employee_table|false      |\n",
      "+---------+--------------+-----------+\n",
      "\n"
     ]
    }
   ],
   "source": [
    "spark.sql(\"show tables\").show(truncate=False)"
   ]
  },
  {
   "cell_type": "code",
   "execution_count": 9,
   "metadata": {},
   "outputs": [
    {
     "name": "stderr",
     "output_type": "stream",
     "text": [
      "                                                                                \r"
     ]
    },
    {
     "data": {
      "text/plain": [
       "<delta.tables.DeltaTable at 0x7378c0cb7dc0>"
      ]
     },
     "execution_count": 9,
     "metadata": {},
     "output_type": "execute_result"
    }
   ],
   "source": [
    "DeltaTable.createIfNotExists(spark).tableName(\"employee_table_01\").addColumn(\n",
    "    \"emp_id\", \"INT\"\n",
    ").addColumn(\"emp_name\", \"STRING\").addColumn(\"gender\", \"STRING\").addColumn(\n",
    "    \"salary\", \"INT\"\n",
    ").addColumn(\n",
    "    \"Dept\", \"STRING\"\n",
    ").property(\n",
    "    \"description\", \"table created for demo purpose\"\n",
    ").execute()"
   ]
  },
  {
   "cell_type": "code",
   "execution_count": 10,
   "metadata": {},
   "outputs": [
    {
     "name": "stdout",
     "output_type": "stream",
     "text": [
      "+---------+-----------------+-----------+\n",
      "|namespace|tableName        |isTemporary|\n",
      "+---------+-----------------+-----------+\n",
      "|default  |employee_table   |false      |\n",
      "|default  |employee_table_01|false      |\n",
      "+---------+-----------------+-----------+\n",
      "\n"
     ]
    }
   ],
   "source": [
    "spark.sql(\"show tables\").show(truncate=False)"
   ]
  },
  {
   "cell_type": "code",
   "execution_count": 12,
   "metadata": {},
   "outputs": [
    {
     "name": "stdout",
     "output_type": "stream",
     "text": [
      "+------+------------------------------------+---------------------------------------+-----------+-----------------------------------------------------------------------------------+-----------------------+-----------------------+----------------+--------+-----------+-----------------------------------------------+----------------+----------------+------------------------+\n",
      "|format|id                                  |name                                   |description|location                                                                           |createdAt              |lastModified           |partitionColumns|numFiles|sizeInBytes|properties                                     |minReaderVersion|minWriterVersion|tableFeatures           |\n",
      "+------+------------------------------------+---------------------------------------+-----------+-----------------------------------------------------------------------------------+-----------------------+-----------------------+----------------+--------+-----------+-----------------------------------------------+----------------+----------------+------------------------+\n",
      "|delta |1112dfd9-d151-494b-b556-f4da3c191b49|spark_catalog.default.employee_table_01|NULL       |file:/mnt/sda3/iNeuron/Data%20Engineering/pySpark/spark-warehouse/employee_table_01|2024-02-16 14:23:15.818|2024-02-16 14:23:15.859|[]              |0       |0          |{description -> table created for demo purpose}|1               |2               |[appendOnly, invariants]|\n",
      "+------+------------------------------------+---------------------------------------+-----------+-----------------------------------------------------------------------------------+-----------------------+-----------------------+----------------+--------+-----------+-----------------------------------------------+----------------+----------------+------------------------+\n",
      "\n"
     ]
    }
   ],
   "source": [
    "# Describe the table details\n",
    "spark.sql(\"DESCRIBE DETAIL employee_table_01\").show(truncate=False)"
   ]
  },
  {
   "cell_type": "code",
   "execution_count": 13,
   "metadata": {},
   "outputs": [
    {
     "name": "stdout",
     "output_type": "stream",
     "text": [
      "+------+------------------------------------+------------------------------------+-----------+--------------------------------------------------------------------------------+-----------------------+-----------------------+----------------+--------+-----------+----------+----------------+----------------+------------------------+\n",
      "|format|id                                  |name                                |description|location                                                                        |createdAt              |lastModified           |partitionColumns|numFiles|sizeInBytes|properties|minReaderVersion|minWriterVersion|tableFeatures           |\n",
      "+------+------------------------------------+------------------------------------+-----------+--------------------------------------------------------------------------------+-----------------------+-----------------------+----------------+--------+-----------+----------+----------------+----------------+------------------------+\n",
      "|delta |c9f9d31e-fe74-460e-bb8c-ba4c37d4d9dc|spark_catalog.default.employee_table|NULL       |file:/mnt/sda3/iNeuron/Data%20Engineering/pySpark/spark-warehouse/employee_table|2024-02-16 14:18:38.143|2024-02-16 14:18:38.674|[]              |0       |0          |{}        |1               |2               |[appendOnly, invariants]|\n",
      "+------+------------------------------------+------------------------------------+-----------+--------------------------------------------------------------------------------+-----------------------+-----------------------+----------------+--------+-----------+----------+----------------+----------------+------------------------+\n",
      "\n"
     ]
    }
   ],
   "source": [
    "# Describe the table details\n",
    "spark.sql(\"DESCRIBE DETAIL employee_table\").show(truncate=False)"
   ]
  },
  {
   "cell_type": "markdown",
   "metadata": {},
   "source": [
    "- 3rd: Using Dataframe"
   ]
  },
  {
   "cell_type": "code",
   "execution_count": 15,
   "metadata": {},
   "outputs": [
    {
     "name": "stdout",
     "output_type": "stream",
     "text": [
      "+------+--------+------+------+-----+\n",
      "|emp_id|emp_name|gender|salary| dept|\n",
      "+------+--------+------+------+-----+\n",
      "|   100| Stephen|     M|  2000|   IT|\n",
      "|   200| Philipp|     M|  8000|   HR|\n",
      "|   300|   Laura|     F|  6000|SALES|\n",
      "+------+--------+------+------+-----+\n",
      "\n"
     ]
    }
   ],
   "source": [
    "employee_data = [\n",
    "    (100, \"Stephen\", \"M\", 2000, \"IT\"),\n",
    "    (200, \"Philipp\", \"M\", 8000, \"HR\"),\n",
    "    (300, \"Laura\", \"F\", 6000, \"SALES\"),\n",
    "]\n",
    "schema = [\"emp_id\", \"emp_name\", \"gender\", \"salary\", \"dept\"]\n",
    "\n",
    "df = spark.createDataFrame(data=employee_data, schema=schema)\n",
    "df.show()"
   ]
  },
  {
   "cell_type": "code",
   "execution_count": 16,
   "metadata": {},
   "outputs": [
    {
     "name": "stderr",
     "output_type": "stream",
     "text": [
      "                                                                                \r"
     ]
    }
   ],
   "source": [
    "# create table in the metastore using dataframe's schema and write data to it\n",
    "df.write.format(\"delta\").saveAsTable(\"employee_demo_01\")"
   ]
  },
  {
   "cell_type": "code",
   "execution_count": 17,
   "metadata": {},
   "outputs": [
    {
     "name": "stderr",
     "output_type": "stream",
     "text": [
      "                                                                                \r"
     ]
    },
    {
     "name": "stdout",
     "output_type": "stream",
     "text": [
      "+------+--------+------+------+-----+\n",
      "|emp_id|emp_name|gender|salary|dept |\n",
      "+------+--------+------+------+-----+\n",
      "|300   |Laura   |F     |6000  |SALES|\n",
      "|200   |Philipp |M     |8000  |HR   |\n",
      "|100   |Stephen |M     |2000  |IT   |\n",
      "+------+--------+------+------+-----+\n",
      "\n"
     ]
    }
   ],
   "source": [
    "spark.sql(\"SELECT * FROM employee_demo_01\").show(truncate=False)"
   ]
  },
  {
   "cell_type": "code",
   "execution_count": null,
   "metadata": {},
   "outputs": [],
   "source": []
  }
 ],
 "metadata": {
  "kernelspec": {
   "display_name": "spark",
   "language": "python",
   "name": "python3"
  },
  "language_info": {
   "codemirror_mode": {
    "name": "ipython",
    "version": 3
   },
   "file_extension": ".py",
   "mimetype": "text/x-python",
   "name": "python",
   "nbconvert_exporter": "python",
   "pygments_lexer": "ipython3",
   "version": "3.10.13"
  }
 },
 "nbformat": 4,
 "nbformat_minor": 2
}
