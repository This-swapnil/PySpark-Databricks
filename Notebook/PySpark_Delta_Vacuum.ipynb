{
 "cells": [
  {
   "cell_type": "code",
   "execution_count": 1,
   "metadata": {},
   "outputs": [
    {
     "name": "stdout",
     "output_type": "stream",
     "text": [
      ":: loading settings :: url = jar:file:/home/nil/anaconda3/envs/spark/lib/python3.12/site-packages/pyspark/jars/ivy-2.5.1.jar!/org/apache/ivy/core/settings/ivysettings.xml\n"
     ]
    },
    {
     "name": "stderr",
     "output_type": "stream",
     "text": [
      "Ivy Default Cache set to: /home/nil/.ivy2/cache\n",
      "The jars for the packages stored in: /home/nil/.ivy2/jars\n",
      "io.delta#delta-spark_2.12 added as a dependency\n",
      ":: resolving dependencies :: org.apache.spark#spark-submit-parent-5c17cb4f-8906-42d8-870b-69701640bd44;1.0\n",
      "\tconfs: [default]\n",
      "\tfound io.delta#delta-spark_2.12;3.1.0 in central\n",
      "\tfound io.delta#delta-storage;3.1.0 in central\n",
      "\tfound org.antlr#antlr4-runtime;4.9.3 in central\n",
      ":: resolution report :: resolve 224ms :: artifacts dl 10ms\n",
      "\t:: modules in use:\n",
      "\tio.delta#delta-spark_2.12;3.1.0 from central in [default]\n",
      "\tio.delta#delta-storage;3.1.0 from central in [default]\n",
      "\torg.antlr#antlr4-runtime;4.9.3 from central in [default]\n",
      "\t---------------------------------------------------------------------\n",
      "\t|                  |            modules            ||   artifacts   |\n",
      "\t|       conf       | number| search|dwnlded|evicted|| number|dwnlded|\n",
      "\t---------------------------------------------------------------------\n",
      "\t|      default     |   3   |   0   |   0   |   0   ||   3   |   0   |\n",
      "\t---------------------------------------------------------------------\n",
      ":: retrieving :: org.apache.spark#spark-submit-parent-5c17cb4f-8906-42d8-870b-69701640bd44\n",
      "\tconfs: [default]\n",
      "\t0 artifacts copied, 3 already retrieved (0kB/6ms)\n",
      "24/02/22 12:32:41 WARN NativeCodeLoader: Unable to load native-hadoop library for your platform... using builtin-java classes where applicable\n",
      "Setting default log level to \"WARN\".\n",
      "To adjust logging level use sc.setLogLevel(newLevel). For SparkR, use setLogLevel(newLevel).\n"
     ]
    }
   ],
   "source": [
    "from pyspark.sql import SparkSession\n",
    "from delta import *\n",
    "\n",
    "builder = (\n",
    "    SparkSession.builder.appName(\"MyApp\")\n",
    "    .config(\"spark.sql.extensions\", \"io.delta.sql.DeltaSparkSessionExtension\")\n",
    "    .config(\n",
    "        \"spark.sql.catalog.spark_catalog\",\n",
    "        \"org.apache.spark.sql.delta.catalog.DeltaCatalog\",\n",
    "    )\n",
    ")\n",
    "spark = configure_spark_with_delta_pip(builder).getOrCreate()"
   ]
  },
  {
   "cell_type": "markdown",
   "metadata": {},
   "source": [
    "- Vacuum: To clean up absolute file"
   ]
  },
  {
   "cell_type": "code",
   "execution_count": 2,
   "metadata": {},
   "outputs": [
    {
     "name": "stderr",
     "output_type": "stream",
     "text": [
      "24/02/22 12:32:52 WARN SparkStringUtils: Truncated the string representation of a plan since it was too large. This behavior can be adjusted by setting 'spark.sql.debug.maxToStringFields'.\n",
      "24/02/22 12:32:56 WARN GarbageCollectionMetrics: To enable non-built-in garbage collector(s) List(G1 Concurrent GC), users should configure it(them) to spark.eventLog.gcMetrics.youngGenerationGarbageCollectors or spark.eventLog.gcMetrics.oldGenerationGarbageCollectors\n",
      "                                                                                \r"
     ]
    },
    {
     "data": {
      "text/plain": [
       "DataFrame[]"
      ]
     },
     "execution_count": 2,
     "metadata": {},
     "output_type": "execute_result"
    }
   ],
   "source": [
    "spark.sql(\n",
    "    \"\"\"CREATE OR REPLACE TABLE scd2Demo(\n",
    "    pk1 INT,\n",
    "    pk2 STRING,\n",
    "    dim1 INT,\n",
    "    dim2 INT,\n",
    "    dim3 int,\n",
    "    dim4 int,\n",
    "    active_status string,\n",
    "    start_date timestamp,\n",
    "    end_date timestamp\n",
    ")\n",
    "USING DELTA\n",
    "LOCATION '/mnt/sda3/iNeuron/Data Engineering/pySpark/Delta_Lake/delta_lake_06'\"\"\"\n",
    ")"
   ]
  },
  {
   "cell_type": "code",
   "execution_count": 3,
   "metadata": {},
   "outputs": [
    {
     "name": "stderr",
     "output_type": "stream",
     "text": [
      "                                                                                \r"
     ]
    },
    {
     "data": {
      "text/plain": [
       "DataFrame[]"
      ]
     },
     "execution_count": 3,
     "metadata": {},
     "output_type": "execute_result"
    }
   ],
   "source": [
    "spark.sql(\n",
    "    \"\"\"INSERT INTO scd2Demo VALUES \n",
    "    (111,'Unit1',200,500,800,400,'Y',current_timestamp(),'9999-12-31'),\n",
    "    (222,'Unit2',900,Null,700,100,'Y',current_timestamp(),'9999-12-31'),\n",
    "    (333,'Unit3',300,900,250,650,'Y',current_timestamp(),'9999-12-31')\n",
    "    \"\"\"\n",
    ")"
   ]
  },
  {
   "cell_type": "code",
   "execution_count": 4,
   "metadata": {},
   "outputs": [
    {
     "name": "stderr",
     "output_type": "stream",
     "text": [
      "                                                                                \r"
     ]
    },
    {
     "data": {
      "text/plain": [
       "DataFrame[]"
      ]
     },
     "execution_count": 4,
     "metadata": {},
     "output_type": "execute_result"
    }
   ],
   "source": [
    "spark.sql(\n",
    "    \"\"\"INSERT INTO scd2Demo VALUES \n",
    "    (666,'Unit6',200,500,800,400,'Y',current_timestamp(),'9999-12-31'),\n",
    "    (777,'Unit7',900,Null,700,100,'Y',current_timestamp(),'9999-12-31'),\n",
    "    (888,'Unit8',300,900,250,650,'Y',current_timestamp(),'9999-12-31')\n",
    "    \"\"\"\n",
    ")"
   ]
  },
  {
   "cell_type": "code",
   "execution_count": 5,
   "metadata": {},
   "outputs": [
    {
     "name": "stderr",
     "output_type": "stream",
     "text": [
      "                                                                                \r"
     ]
    },
    {
     "data": {
      "text/plain": [
       "DataFrame[num_affected_rows: bigint]"
      ]
     },
     "execution_count": 5,
     "metadata": {},
     "output_type": "execute_result"
    }
   ],
   "source": [
    "spark.sql(\"DELETE FROM scd2demo where pk1=777\")"
   ]
  },
  {
   "cell_type": "code",
   "execution_count": 6,
   "metadata": {},
   "outputs": [
    {
     "name": "stderr",
     "output_type": "stream",
     "text": [
      "                                                                                \r"
     ]
    },
    {
     "data": {
      "text/plain": [
       "DataFrame[num_affected_rows: bigint]"
      ]
     },
     "execution_count": 6,
     "metadata": {},
     "output_type": "execute_result"
    }
   ],
   "source": [
    "spark.sql(\"UPDATE scd2Demo SET dim1 = 100 where pk1=666\")"
   ]
  },
  {
   "cell_type": "code",
   "execution_count": 7,
   "metadata": {},
   "outputs": [
    {
     "name": "stderr",
     "output_type": "stream",
     "text": [
      "[Stage 55:=====================================================>  (48 + 2) / 50]\r"
     ]
    },
    {
     "name": "stdout",
     "output_type": "stream",
     "text": [
      "+------------------------------------------------------------------------+----------------------------------------------------------------------------------------------------------------------------------------------+\n",
      "|path                                                                    |metrics                                                                                                                                       |\n",
      "+------------------------------------------------------------------------+----------------------------------------------------------------------------------------------------------------------------------------------+\n",
      "|file:/mnt/sda3/iNeuron/Data Engineering/pySpark/Delta_Lake/delta_lake_06|{1, 5, {2583, 2583, 2583.0, 1, 2583}, {2367, 2403, 2395.6, 5, 11978}, 1, NULL, 1, 5, 0, false, 0, 0, 1708585398182, 0, 8, 0, NULL, NULL, 9, 9}|\n",
      "+------------------------------------------------------------------------+----------------------------------------------------------------------------------------------------------------------------------------------+\n",
      "\n"
     ]
    },
    {
     "name": "stderr",
     "output_type": "stream",
     "text": [
      "                                                                                \r"
     ]
    }
   ],
   "source": [
    "spark.sql(\"OPTIMIZE scd2Demo\").show(truncate=False)"
   ]
  },
  {
   "cell_type": "code",
   "execution_count": 8,
   "metadata": {},
   "outputs": [
    {
     "name": "stdout",
     "output_type": "stream",
     "text": [
      "+-------+-----------------------+------+--------+-----------------------+------------------------------------------------------------------------------+----+--------+---------+-----------+-----------------+-------------+------------------------------------------------------------------------------------------------------------------------------------------------------------------------------------------------------------------------------------------------------------------------------------------------------------------------------+------------+-----------------------------------+\n",
      "|version|timestamp              |userId|userName|operation              |operationParameters                                                           |job |notebook|clusterId|readVersion|isolationLevel   |isBlindAppend|operationMetrics                                                                                                                                                                                                                                                                                                              |userMetadata|engineInfo                         |\n",
      "+-------+-----------------------+------+--------+-----------------------+------------------------------------------------------------------------------+----+--------+---------+-----------+-----------------+-------------+------------------------------------------------------------------------------------------------------------------------------------------------------------------------------------------------------------------------------------------------------------------------------------------------------------------------------+------------+-----------------------------------+\n",
      "|5      |2024-02-22 12:33:16.308|NULL  |NULL    |OPTIMIZE               |{predicate -> [], zOrderBy -> [], auto -> false}                              |NULL|NULL    |NULL     |4          |SnapshotIsolation|false        |{numRemovedFiles -> 5, numRemovedBytes -> 11978, p25FileSize -> 2583, numDeletionVectorsRemoved -> 0, minFileSize -> 2583, numAddedFiles -> 1, maxFileSize -> 2583, p75FileSize -> 2583, p50FileSize -> 2583, numAddedBytes -> 2583}                                                                                          |NULL        |Apache-Spark/3.5.0 Delta-Lake/3.1.0|\n",
      "|4      |2024-02-22 12:33:12.817|NULL  |NULL    |UPDATE                 |{predicate -> [\"(pk1#4023 = 666)\"]}                                           |NULL|NULL    |NULL     |3          |Serializable     |false        |{numRemovedFiles -> 1, numRemovedBytes -> 2403, numCopiedRows -> 0, numDeletionVectorsAdded -> 0, numDeletionVectorsRemoved -> 0, numAddedChangeFiles -> 0, executionTimeMs -> 1373, numDeletionVectorsUpdated -> 0, scanTimeMs -> 1052, numAddedFiles -> 1, numUpdatedRows -> 1, numAddedBytes -> 2403, rewriteTimeMs -> 318}|NULL        |Apache-Spark/3.5.0 Delta-Lake/3.1.0|\n",
      "|3      |2024-02-22 12:33:09.238|NULL  |NULL    |DELETE                 |{predicate -> [\"(pk1#2788 = 777)\"]}                                           |NULL|NULL    |NULL     |2          |Serializable     |false        |{numRemovedFiles -> 1, numRemovedBytes -> 2367, numCopiedRows -> 0, numDeletionVectorsAdded -> 0, numDeletionVectorsRemoved -> 0, numAddedChangeFiles -> 0, executionTimeMs -> 2702, numDeletionVectorsUpdated -> 0, numDeletedRows -> 1, scanTimeMs -> 2315, numAddedFiles -> 0, numAddedBytes -> 0, rewriteTimeMs -> 386}   |NULL        |Apache-Spark/3.5.0 Delta-Lake/3.1.0|\n",
      "|2      |2024-02-22 12:33:03.69 |NULL  |NULL    |WRITE                  |{mode -> Append, partitionBy -> []}                                           |NULL|NULL    |NULL     |1          |Serializable     |true         |{numFiles -> 3, numOutputRows -> 3, numOutputBytes -> 7173}                                                                                                                                                                                                                                                                   |NULL        |Apache-Spark/3.5.0 Delta-Lake/3.1.0|\n",
      "|1      |2024-02-22 12:33:00.707|NULL  |NULL    |WRITE                  |{mode -> Append, partitionBy -> []}                                           |NULL|NULL    |NULL     |0          |Serializable     |true         |{numFiles -> 3, numOutputRows -> 3, numOutputBytes -> 7172}                                                                                                                                                                                                                                                                   |NULL        |Apache-Spark/3.5.0 Delta-Lake/3.1.0|\n",
      "|0      |2024-02-22 12:32:47.421|NULL  |NULL    |CREATE OR REPLACE TABLE|{isManaged -> false, description -> NULL, partitionBy -> [], properties -> {}}|NULL|NULL    |NULL     |NULL       |Serializable     |true         |{}                                                                                                                                                                                                                                                                                                                            |NULL        |Apache-Spark/3.5.0 Delta-Lake/3.1.0|\n",
      "+-------+-----------------------+------+--------+-----------------------+------------------------------------------------------------------------------+----+--------+---------+-----------+-----------------+-------------+------------------------------------------------------------------------------------------------------------------------------------------------------------------------------------------------------------------------------------------------------------------------------------------------------------------------------+------------+-----------------------------------+\n",
      "\n"
     ]
    }
   ],
   "source": [
    "spark.sql(\"DESCRIBE HISTORY scd2Demo\").show(truncate=False)"
   ]
  },
  {
   "cell_type": "code",
   "execution_count": 9,
   "metadata": {},
   "outputs": [
    {
     "name": "stderr",
     "output_type": "stream",
     "text": [
      "                                                                                \r"
     ]
    },
    {
     "name": "stdout",
     "output_type": "stream",
     "text": [
      "Found 0 files (0 bytes) and directories in a total of 1 directories that are safe to delete.\n"
     ]
    },
    {
     "name": "stderr",
     "output_type": "stream",
     "text": [
      "[Stage 88:=================================================>      (44 + 6) / 50]\r"
     ]
    },
    {
     "name": "stdout",
     "output_type": "stream",
     "text": [
      "+----+\n",
      "|path|\n",
      "+----+\n",
      "+----+\n",
      "\n"
     ]
    },
    {
     "name": "stderr",
     "output_type": "stream",
     "text": [
      "                                                                                \r"
     ]
    }
   ],
   "source": [
    "spark.sql(\"VACUUM scd2Demo DRY RUN\").show(truncate=False)"
   ]
  },
  {
   "cell_type": "code",
   "execution_count": 10,
   "metadata": {},
   "outputs": [
    {
     "name": "stderr",
     "output_type": "stream",
     "text": [
      "                                                                                \r"
     ]
    },
    {
     "name": "stdout",
     "output_type": "stream",
     "text": [
      "Found 0 files (0 bytes) and directories in a total of 1 directories that are safe to delete.\n"
     ]
    },
    {
     "name": "stderr",
     "output_type": "stream",
     "text": [
      "[Stage 120:========================================>              (37 + 8) / 50]\r"
     ]
    },
    {
     "name": "stdout",
     "output_type": "stream",
     "text": [
      "+----+\n",
      "|path|\n",
      "+----+\n",
      "+----+\n",
      "\n"
     ]
    },
    {
     "name": "stderr",
     "output_type": "stream",
     "text": [
      "                                                                                \r"
     ]
    }
   ],
   "source": [
    "# change the duration default is 168 hrs\n",
    "\n",
    "spark.sql(\"VACUUM scd2Demo RETAIN 720 HOURS DRY RUN\").show(truncate=False)"
   ]
  },
  {
   "cell_type": "code",
   "execution_count": null,
   "metadata": {},
   "outputs": [],
   "source": []
  }
 ],
 "metadata": {
  "kernelspec": {
   "display_name": "spark",
   "language": "python",
   "name": "python3"
  },
  "language_info": {
   "codemirror_mode": {
    "name": "ipython",
    "version": 3
   },
   "file_extension": ".py",
   "mimetype": "text/x-python",
   "name": "python",
   "nbconvert_exporter": "python",
   "pygments_lexer": "ipython3",
   "version": "3.12.1"
  }
 },
 "nbformat": 4,
 "nbformat_minor": 2
}
