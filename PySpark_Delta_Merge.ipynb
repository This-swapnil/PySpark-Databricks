{
 "cells": [
  {
   "cell_type": "code",
   "execution_count": 1,
   "metadata": {},
   "outputs": [
    {
     "name": "stdout",
     "output_type": "stream",
     "text": [
      ":: loading settings :: url = jar:file:/home/nil/anaconda3/envs/spark/lib/python3.10/site-packages/pyspark/jars/ivy-2.5.1.jar!/org/apache/ivy/core/settings/ivysettings.xml\n"
     ]
    },
    {
     "name": "stderr",
     "output_type": "stream",
     "text": [
      "Ivy Default Cache set to: /home/nil/.ivy2/cache\n",
      "The jars for the packages stored in: /home/nil/.ivy2/jars\n",
      "io.delta#delta-spark_2.12 added as a dependency\n",
      ":: resolving dependencies :: org.apache.spark#spark-submit-parent-5f45d069-5c00-4cc8-b4f3-0c855ce6b0f6;1.0\n",
      "\tconfs: [default]\n",
      "\tfound io.delta#delta-spark_2.12;3.1.0 in central\n",
      "\tfound io.delta#delta-storage;3.1.0 in central\n",
      "\tfound org.antlr#antlr4-runtime;4.9.3 in central\n",
      ":: resolution report :: resolve 348ms :: artifacts dl 11ms\n",
      "\t:: modules in use:\n",
      "\tio.delta#delta-spark_2.12;3.1.0 from central in [default]\n",
      "\tio.delta#delta-storage;3.1.0 from central in [default]\n",
      "\torg.antlr#antlr4-runtime;4.9.3 from central in [default]\n",
      "\t---------------------------------------------------------------------\n",
      "\t|                  |            modules            ||   artifacts   |\n",
      "\t|       conf       | number| search|dwnlded|evicted|| number|dwnlded|\n",
      "\t---------------------------------------------------------------------\n",
      "\t|      default     |   3   |   0   |   0   |   0   ||   3   |   0   |\n",
      "\t---------------------------------------------------------------------\n",
      ":: retrieving :: org.apache.spark#spark-submit-parent-5f45d069-5c00-4cc8-b4f3-0c855ce6b0f6\n",
      "\tconfs: [default]\n",
      "\t0 artifacts copied, 3 already retrieved (0kB/8ms)\n",
      "24/02/17 11:00:17 WARN NativeCodeLoader: Unable to load native-hadoop library for your platform... using builtin-java classes where applicable\n",
      "Setting default log level to \"WARN\".\n",
      "To adjust logging level use sc.setLogLevel(newLevel). For SparkR, use setLogLevel(newLevel).\n"
     ]
    }
   ],
   "source": [
    "from pyspark.sql import SparkSession\n",
    "from delta import *\n",
    "\n",
    "builder = (\n",
    "    SparkSession.builder.appName(\"MyApp\")\n",
    "    .config(\"spark.sql.extensions\", \"io.delta.sql.DeltaSparkSessionExtension\")\n",
    "    .config(\n",
    "        \"spark.sql.catalog.spark_catalog\",\n",
    "        \"org.apache.spark.sql.delta.catalog.DeltaCatalog\",\n",
    "    )\n",
    ")\n",
    "spark = configure_spark_with_delta_pip(builder).getOrCreate()"
   ]
  },
  {
   "cell_type": "code",
   "execution_count": 2,
   "metadata": {},
   "outputs": [],
   "source": [
    "from pyspark.sql.types import *\n",
    "from pyspark.sql.functions import *"
   ]
  },
  {
   "cell_type": "code",
   "execution_count": 4,
   "metadata": {},
   "outputs": [],
   "source": [
    "schema = StructType(\n",
    "    [\n",
    "        StructField(\"emp_id\", IntegerType(), True),\n",
    "        StructField(\"name\", StringType(), True),\n",
    "        StructField(\"city\", StringType(), True),\n",
    "        StructField(\"country\", StringType(), True),\n",
    "        StructField(\"contact_no\", IntegerType(), True),\n",
    "    ]\n",
    ")"
   ]
  },
  {
   "cell_type": "code",
   "execution_count": 5,
   "metadata": {},
   "outputs": [
    {
     "name": "stderr",
     "output_type": "stream",
     "text": [
      "                                                                                \r"
     ]
    },
    {
     "name": "stdout",
     "output_type": "stream",
     "text": [
      "+------+-------+--------+-------+----------+\n",
      "|emp_id|   name|    city|country|contact_no|\n",
      "+------+-------+--------+-------+----------+\n",
      "|  1000|Michael|Columbus|    USA|1234567890|\n",
      "+------+-------+--------+-------+----------+\n",
      "\n"
     ]
    }
   ],
   "source": [
    "data = [(1000, \"Michael\", \"Columbus\", \"USA\", 1234567890)]\n",
    "\n",
    "df = spark.createDataFrame(data=data, schema=schema)\n",
    "df.show()"
   ]
  },
  {
   "cell_type": "code",
   "execution_count": 6,
   "metadata": {},
   "outputs": [
    {
     "name": "stderr",
     "output_type": "stream",
     "text": [
      "24/02/17 11:12:35 WARN SparkStringUtils: Truncated the string representation of a plan since it was too large. This behavior can be adjusted by setting 'spark.sql.debug.maxToStringFields'.\n",
      "                                                                                \r"
     ]
    },
    {
     "data": {
      "text/plain": [
       "DataFrame[]"
      ]
     },
     "execution_count": 6,
     "metadata": {},
     "output_type": "execute_result"
    }
   ],
   "source": [
    "spark.sql(\n",
    "    \"\"\"CREATE OR REPLACE TABLE dim_employee\n",
    "(\n",
    "    emp_id INT,\n",
    "    name STRING,\n",
    "    city STRING,\n",
    "    country STRING,\n",
    "    contact_no INT\n",
    ")\n",
    "USING DELTA\n",
    "LOCATION '/mnt/sda3/iNeuron/Data Engineering/pySpark/Delta_Lake/delta_lake_04'\"\"\"\n",
    ")"
   ]
  },
  {
   "cell_type": "code",
   "execution_count": 8,
   "metadata": {},
   "outputs": [
    {
     "name": "stderr",
     "output_type": "stream",
     "text": [
      "                                                                                \r"
     ]
    },
    {
     "name": "stdout",
     "output_type": "stream",
     "text": [
      "+------+----+----+-------+----------+\n",
      "|emp_id|name|city|country|contact_no|\n",
      "+------+----+----+-------+----------+\n",
      "+------+----+----+-------+----------+\n",
      "\n"
     ]
    }
   ],
   "source": [
    "spark.sql(\"SELECT * FROM dim_employee\").show()"
   ]
  },
  {
   "cell_type": "markdown",
   "metadata": {},
   "source": [
    "### Method 1: Spark SQL"
   ]
  },
  {
   "cell_type": "code",
   "execution_count": 9,
   "metadata": {},
   "outputs": [],
   "source": [
    "df.createOrReplaceTempView(\"source_view\")"
   ]
  },
  {
   "cell_type": "code",
   "execution_count": 11,
   "metadata": {},
   "outputs": [
    {
     "name": "stdout",
     "output_type": "stream",
     "text": [
      "+------+-------+--------+-------+----------+\n",
      "|emp_id|   name|    city|country|contact_no|\n",
      "+------+-------+--------+-------+----------+\n",
      "|  1000|Michael|Columbus|    USA|1234567890|\n",
      "+------+-------+--------+-------+----------+\n",
      "\n"
     ]
    }
   ],
   "source": [
    "spark.sql(\"select * from source_view\").show()"
   ]
  },
  {
   "cell_type": "code",
   "execution_count": 12,
   "metadata": {},
   "outputs": [
    {
     "name": "stderr",
     "output_type": "stream",
     "text": [
      "                                                                                \r"
     ]
    },
    {
     "data": {
      "text/plain": [
       "DataFrame[num_affected_rows: bigint, num_updated_rows: bigint, num_deleted_rows: bigint, num_inserted_rows: bigint]"
      ]
     },
     "execution_count": 12,
     "metadata": {},
     "output_type": "execute_result"
    }
   ],
   "source": [
    "spark.sql(\n",
    "    \"\"\"MERGE INTO dim_employee as target\n",
    "USING source_view as source\n",
    "    ON target.emp_id=source.emp_id\n",
    "    WHEN MATCHED\n",
    "THEN UPDATE SET\n",
    "    target.name=source.name,\n",
    "    target.city=source.city,\n",
    "    target.country=source.country,\n",
    "    target.contact_no=source.contact_no\n",
    "WHEN NOT MATCHED THEN\n",
    "INSERT(emp_id,name,city,country,contact_no) VALUES (emp_id,name,city,country,contact_no)\"\"\"\n",
    ")"
   ]
  },
  {
   "cell_type": "code",
   "execution_count": 14,
   "metadata": {},
   "outputs": [
    {
     "name": "stdout",
     "output_type": "stream",
     "text": [
      "+------+-------+--------+-------+----------+\n",
      "|emp_id|   name|    city|country|contact_no|\n",
      "+------+-------+--------+-------+----------+\n",
      "|  1000|Michael|Columbus|    USA|1234567890|\n",
      "+------+-------+--------+-------+----------+\n",
      "\n"
     ]
    }
   ],
   "source": [
    "spark.sql(\"select * from dim_employee\").show()"
   ]
  },
  {
   "cell_type": "code",
   "execution_count": 22,
   "metadata": {},
   "outputs": [
    {
     "name": "stdout",
     "output_type": "stream",
     "text": [
      "+------+-------+--------+-------+----------+\n",
      "|emp_id|   name|    city|country|contact_no|\n",
      "+------+-------+--------+-------+----------+\n",
      "|  1000|Michael| Chicago|    USA|1234567890|\n",
      "|  2000|Michael|New York|    USA|1234567890|\n",
      "+------+-------+--------+-------+----------+\n",
      "\n"
     ]
    }
   ],
   "source": [
    "data = [\n",
    "    (1000, \"Michael\", \"Chicago\", \"USA\", 1234567890),\n",
    "    (2000, \"Michael\", \"New York\", \"USA\", 1234567890),\n",
    "]\n",
    "\n",
    "df = spark.createDataFrame(data=data, schema=schema)\n",
    "df.show()"
   ]
  },
  {
   "cell_type": "code",
   "execution_count": 23,
   "metadata": {},
   "outputs": [],
   "source": [
    "df.createOrReplaceTempView(\"source_view\")"
   ]
  },
  {
   "cell_type": "code",
   "execution_count": 24,
   "metadata": {},
   "outputs": [
    {
     "name": "stdout",
     "output_type": "stream",
     "text": [
      "+------+-------+--------+-------+----------+\n",
      "|emp_id|   name|    city|country|contact_no|\n",
      "+------+-------+--------+-------+----------+\n",
      "|  1000|Michael| Chicago|    USA|1234567890|\n",
      "|  2000|Michael|New York|    USA|1234567890|\n",
      "+------+-------+--------+-------+----------+\n",
      "\n"
     ]
    }
   ],
   "source": [
    "# source table\n",
    "spark.sql(\"select * from source_view\").show()"
   ]
  },
  {
   "cell_type": "code",
   "execution_count": 25,
   "metadata": {},
   "outputs": [
    {
     "name": "stdout",
     "output_type": "stream",
     "text": [
      "+------+-------+--------+-------+----------+\n",
      "|emp_id|   name|    city|country|contact_no|\n",
      "+------+-------+--------+-------+----------+\n",
      "|  1000|Michael|Columbus|    USA|1234567890|\n",
      "+------+-------+--------+-------+----------+\n",
      "\n"
     ]
    }
   ],
   "source": [
    "# target table\n",
    "spark.sql(\"select * from dim_employee\").show()"
   ]
  },
  {
   "cell_type": "code",
   "execution_count": 26,
   "metadata": {},
   "outputs": [
    {
     "name": "stderr",
     "output_type": "stream",
     "text": [
      "                                                                                \r"
     ]
    },
    {
     "data": {
      "text/plain": [
       "DataFrame[num_affected_rows: bigint, num_updated_rows: bigint, num_deleted_rows: bigint, num_inserted_rows: bigint]"
      ]
     },
     "execution_count": 26,
     "metadata": {},
     "output_type": "execute_result"
    }
   ],
   "source": [
    "spark.sql(\n",
    "    \"\"\"MERGE INTO dim_employee as target\n",
    "USING source_view as source\n",
    "    ON target.emp_id=source.emp_id\n",
    "    WHEN MATCHED\n",
    "THEN UPDATE SET\n",
    "    target.name=source.name,\n",
    "    target.city=source.city,\n",
    "    target.country=source.country,\n",
    "    target.contact_no=source.contact_no\n",
    "WHEN NOT MATCHED THEN\n",
    "INSERT (emp_id,name,city,country,contact_no) VALUES (emp_id,name,city,country,contact_no)\"\"\"\n",
    ")"
   ]
  },
  {
   "cell_type": "code",
   "execution_count": 27,
   "metadata": {},
   "outputs": [
    {
     "name": "stdout",
     "output_type": "stream",
     "text": [
      "+------+-------+--------+-------+----------+\n",
      "|emp_id|   name|    city|country|contact_no|\n",
      "+------+-------+--------+-------+----------+\n",
      "|  1000|Michael| Chicago|    USA|1234567890|\n",
      "|  2000|Michael|New York|    USA|1234567890|\n",
      "+------+-------+--------+-------+----------+\n",
      "\n"
     ]
    }
   ],
   "source": [
    "# updated target table\n",
    "spark.sql(\"select * from dim_employee\").show()"
   ]
  },
  {
   "cell_type": "markdown",
   "metadata": {},
   "source": [
    "### Method 2: PySpark"
   ]
  },
  {
   "cell_type": "code",
   "execution_count": 28,
   "metadata": {},
   "outputs": [
    {
     "name": "stdout",
     "output_type": "stream",
     "text": [
      "+------+-----+--------+-------+----------+\n",
      "|emp_id| name|    city|country|contact_no|\n",
      "+------+-----+--------+-------+----------+\n",
      "|  2000|Sarah|New York|    USA|1234567890|\n",
      "|  3000|David| Atlanta|    USA|1234567890|\n",
      "+------+-----+--------+-------+----------+\n",
      "\n"
     ]
    }
   ],
   "source": [
    "data = [\n",
    "    (2000, \"Sarah\", \"New York\", \"USA\", 1234567890),\n",
    "    (3000, \"David\", \"Atlanta\", \"USA\", 1234567890),\n",
    "]\n",
    "\n",
    "df = spark.createDataFrame(data=data, schema=schema)\n",
    "df.show()"
   ]
  },
  {
   "cell_type": "code",
   "execution_count": 29,
   "metadata": {},
   "outputs": [],
   "source": [
    "delta_df = DeltaTable.forPath(sparkSession=spark, path=\"Delta_Lake/delta_lake_04\")"
   ]
  },
  {
   "cell_type": "code",
   "execution_count": 30,
   "metadata": {},
   "outputs": [
    {
     "name": "stdout",
     "output_type": "stream",
     "text": [
      "+------+-------+--------+-------+----------+\n",
      "|emp_id|   name|    city|country|contact_no|\n",
      "+------+-------+--------+-------+----------+\n",
      "|  1000|Michael| Chicago|    USA|1234567890|\n",
      "|  2000|Michael|New York|    USA|1234567890|\n",
      "+------+-------+--------+-------+----------+\n",
      "\n"
     ]
    }
   ],
   "source": [
    "delta_df.toDF().show()"
   ]
  },
  {
   "cell_type": "code",
   "execution_count": 32,
   "metadata": {},
   "outputs": [
    {
     "name": "stderr",
     "output_type": "stream",
     "text": [
      "                                                                                \r"
     ]
    }
   ],
   "source": [
    "delta_df.alias(\"target\").merge(\n",
    "    source=df.alias(\"source\"), condition=\"target.emp_id=source.emp_id\"\n",
    ").whenMatchedUpdate(\n",
    "    set={\n",
    "        \"name\": \"source.name\",\n",
    "        \"city\": \"source.city\",\n",
    "        \"country\": \"source.country\",\n",
    "        \"contact_no\": \"source.contact_no\",\n",
    "    }\n",
    ").whenNotMatchedInsert(\n",
    "    values={\n",
    "        \"emp_id\": \"source.emp_id\",\n",
    "        \"name\": \"source.name\",\n",
    "        \"city\": \"source.city\",\n",
    "        \"country\": \"source.country\",\n",
    "        \"contact_no\": \"source.contact_no\",\n",
    "    }\n",
    ").execute()"
   ]
  },
  {
   "cell_type": "code",
   "execution_count": 33,
   "metadata": {},
   "outputs": [
    {
     "name": "stdout",
     "output_type": "stream",
     "text": [
      "+------+-------+--------+-------+----------+\n",
      "|emp_id|   name|    city|country|contact_no|\n",
      "+------+-------+--------+-------+----------+\n",
      "|  1000|Michael| Chicago|    USA|1234567890|\n",
      "|  2000|  Sarah|New York|    USA|1234567890|\n",
      "|  3000|  David| Atlanta|    USA|1234567890|\n",
      "+------+-------+--------+-------+----------+\n",
      "\n"
     ]
    }
   ],
   "source": [
    "# updated target table after PySpark merge\n",
    "spark.sql(\"select * from dim_employee\").show()"
   ]
  },
  {
   "cell_type": "code",
   "execution_count": null,
   "metadata": {},
   "outputs": [],
   "source": []
  }
 ],
 "metadata": {
  "kernelspec": {
   "display_name": "spark",
   "language": "python",
   "name": "python3"
  },
  "language_info": {
   "codemirror_mode": {
    "name": "ipython",
    "version": 3
   },
   "file_extension": ".py",
   "mimetype": "text/x-python",
   "name": "python",
   "nbconvert_exporter": "python",
   "pygments_lexer": "ipython3",
   "version": "3.10.13"
  }
 },
 "nbformat": 4,
 "nbformat_minor": 2
}
