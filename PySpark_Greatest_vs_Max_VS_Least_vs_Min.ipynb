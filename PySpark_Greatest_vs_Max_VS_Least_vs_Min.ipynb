{
 "cells": [
  {
   "cell_type": "code",
   "execution_count": 1,
   "metadata": {},
   "outputs": [
    {
     "name": "stderr",
     "output_type": "stream",
     "text": [
      "Setting default log level to \"WARN\".\n",
      "To adjust logging level use sc.setLogLevel(newLevel). For SparkR, use setLogLevel(newLevel).\n",
      "24/02/15 15:14:29 WARN NativeCodeLoader: Unable to load native-hadoop library for your platform... using builtin-java classes where applicable\n"
     ]
    }
   ],
   "source": [
    "from pyspark.sql import SparkSession\n",
    "\n",
    "spark = SparkSession.builder.appName(\"Greates_Least_Max_Min\").getOrCreate()"
   ]
  },
  {
   "cell_type": "code",
   "execution_count": 2,
   "metadata": {},
   "outputs": [
    {
     "name": "stderr",
     "output_type": "stream",
     "text": [
      "                                                                                \r"
     ]
    },
    {
     "name": "stdout",
     "output_type": "stream",
     "text": [
      "+-------+---------+---------+---------+---------+---------+\n",
      "|Student|Subject_1|Subject_2|Subject_3|Subject_4|Subject_5|\n",
      "+-------+---------+---------+---------+---------+---------+\n",
      "|  David|       70|       68|       89|       40|       84|\n",
      "|  Kevin|       90|       67|       87|       79|       74|\n",
      "|Natalia|       66|       88|       49|       65|       72|\n",
      "|  Roger|       78|       73|       82|       89|       67|\n",
      "|Michael|       80|       86|       69|       78|       92|\n",
      "+-------+---------+---------+---------+---------+---------+\n",
      "\n"
     ]
    }
   ],
   "source": [
    "# Create sample dataset\n",
    "\n",
    "input_data = [\n",
    "    (\"David\", 70, 68, 89, 40, 84),\n",
    "    (\"Kevin\", 90, 67, 87, 79, 74),\n",
    "    (\"Natalia\", 66, 88, 49, 65, 72),\n",
    "    (\"Roger\", 78, 73, 82, 89, 67),\n",
    "    (\"Michael\", 80, 86, 69, 78, 92),\n",
    "]\n",
    "\n",
    "schema = [\"Student\", \"Subject_1\", \"Subject_2\", \"Subject_3\", \"Subject_4\", \"Subject_5\"]\n",
    "\n",
    "df = spark.createDataFrame(data=input_data, schema=schema)\n",
    "df.show()"
   ]
  },
  {
   "cell_type": "markdown",
   "metadata": {},
   "source": [
    "- Greates of columns"
   ]
  },
  {
   "cell_type": "code",
   "execution_count": 3,
   "metadata": {},
   "outputs": [],
   "source": [
    "from pyspark.sql.functions import greatest, least"
   ]
  },
  {
   "cell_type": "code",
   "execution_count": 4,
   "metadata": {},
   "outputs": [
    {
     "name": "stdout",
     "output_type": "stream",
     "text": [
      "+-------+---------+---------+---------+---------+---------+-------+\n",
      "|Student|Subject_1|Subject_2|Subject_3|Subject_4|Subject_5|Greates|\n",
      "+-------+---------+---------+---------+---------+---------+-------+\n",
      "|  David|       70|       68|       89|       40|       84|     89|\n",
      "|  Kevin|       90|       67|       87|       79|       74|     90|\n",
      "|Natalia|       66|       88|       49|       65|       72|     88|\n",
      "|  Roger|       78|       73|       82|       89|       67|     89|\n",
      "|Michael|       80|       86|       69|       78|       92|     92|\n",
      "+-------+---------+---------+---------+---------+---------+-------+\n",
      "\n"
     ]
    }
   ],
   "source": [
    "greatDF = df.withColumn(\n",
    "    \"Greates\", greatest(\"Subject_1\", \"Subject_2\", \"Subject_3\", \"Subject_4\", \"Subject_5\")\n",
    ")\n",
    "greatDF.show()"
   ]
  },
  {
   "cell_type": "markdown",
   "metadata": {},
   "source": [
    "- Least of columns"
   ]
  },
  {
   "cell_type": "code",
   "execution_count": 5,
   "metadata": {},
   "outputs": [
    {
     "name": "stdout",
     "output_type": "stream",
     "text": [
      "+-------+---------+---------+---------+---------+---------+-----+\n",
      "|Student|Subject_1|Subject_2|Subject_3|Subject_4|Subject_5|Least|\n",
      "+-------+---------+---------+---------+---------+---------+-----+\n",
      "|  David|       70|       68|       89|       40|       84|   40|\n",
      "|  Kevin|       90|       67|       87|       79|       74|   67|\n",
      "|Natalia|       66|       88|       49|       65|       72|   49|\n",
      "|  Roger|       78|       73|       82|       89|       67|   67|\n",
      "|Michael|       80|       86|       69|       78|       92|   69|\n",
      "+-------+---------+---------+---------+---------+---------+-----+\n",
      "\n"
     ]
    }
   ],
   "source": [
    "leastDF = df.withColumn(\n",
    "    \"Least\", least(\"Subject_1\", \"Subject_2\", \"Subject_3\", \"Subject_4\", \"Subject_5\")\n",
    ")\n",
    "leastDF.show()"
   ]
  },
  {
   "cell_type": "markdown",
   "metadata": {},
   "source": [
    "- Max of Rows"
   ]
  },
  {
   "cell_type": "code",
   "execution_count": 6,
   "metadata": {},
   "outputs": [
    {
     "name": "stdout",
     "output_type": "stream",
     "text": [
      "+--------------+\n",
      "|max(Subject_1)|\n",
      "+--------------+\n",
      "|            90|\n",
      "+--------------+\n",
      "\n"
     ]
    }
   ],
   "source": [
    "df.agg({\"Subject_1\": \"max\"}).show()"
   ]
  },
  {
   "cell_type": "code",
   "execution_count": 7,
   "metadata": {},
   "outputs": [
    {
     "name": "stdout",
     "output_type": "stream",
     "text": [
      "+--------------+--------------+--------------+--------------+--------------+\n",
      "|min(Subject_3)|min(Subject_4)|min(Subject_2)|min(Subject_5)|min(Subject_1)|\n",
      "+--------------+--------------+--------------+--------------+--------------+\n",
      "|            49|            40|            67|            67|            66|\n",
      "+--------------+--------------+--------------+--------------+--------------+\n",
      "\n"
     ]
    }
   ],
   "source": [
    "df.agg(\n",
    "    {\n",
    "        \"Subject_1\": \"min\",\n",
    "        \"Subject_2\": \"min\",\n",
    "        \"Subject_3\": \"min\",\n",
    "        \"Subject_4\": \"min\",\n",
    "        \"Subject_5\": \"min\",\n",
    "    }\n",
    ").show()"
   ]
  },
  {
   "cell_type": "code",
   "execution_count": null,
   "metadata": {},
   "outputs": [],
   "source": []
  }
 ],
 "metadata": {
  "kernelspec": {
   "display_name": "spark",
   "language": "python",
   "name": "python3"
  },
  "language_info": {
   "codemirror_mode": {
    "name": "ipython",
    "version": 3
   },
   "file_extension": ".py",
   "mimetype": "text/x-python",
   "name": "python",
   "nbconvert_exporter": "python",
   "pygments_lexer": "ipython3",
   "version": "3.1.0"
  }
 },
 "nbformat": 4,
 "nbformat_minor": 2
}
